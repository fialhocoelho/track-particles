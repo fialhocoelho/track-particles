{
 "cells": [
  {
   "cell_type": "code",
   "execution_count": null,
   "metadata": {},
   "outputs": [],
   "source": [
    "import sys\n",
    "import pandas as pd\n",
    "\n",
    "from core.utils.utils import *"
   ]
  },
  {
   "cell_type": "markdown",
   "metadata": {},
   "source": [
    "## Reading the data ##"
   ]
  },
  {
   "cell_type": "code",
   "execution_count": null,
   "metadata": {},
   "outputs": [],
   "source": [
    "path1 = 'results/x_test.csv'\n",
    "path2 = 'results/y_true.csv'\n",
    "path3 = 'results/y_pred.csv'\n",
    "\n",
    "x_test = pd.read_csv(path1, header=None)\n",
    "y_test = pd.read_csv(path2, header=None)\n",
    "y_pred = pd.read_csv(path3, header=None)\n",
    "\n",
    "test = pd.concat([x_test, y_test], axis = 1, ignore_index = True)\n",
    "pred = pd.concat([x_test, y_pred], axis = 1, ignore_index = True)\n",
    "test.name = 'real'\n",
    "pred.name = 'predict'\n"
   ]
  },
  {
   "cell_type": "markdown",
   "metadata": {},
   "source": [
    "## Ploting Hit ##"
   ]
  },
  {
   "cell_type": "code",
   "execution_count": null,
   "metadata": {},
   "outputs": [],
   "source": [
    "fig = track_plot_xyz([test, pred], n_tracks = 40, \n",
    "               path='track.html', title='Track Prediction #5 Hit')\n",
    "\n",
    "fig.show()\n"
   ]
  }
 ],
 "metadata": {
  "kernelspec": {
   "display_name": "Python [conda env:.conda-trackml2]",
   "language": "python",
   "name": "conda-env-.conda-trackml2-py"
  },
  "language_info": {
   "codemirror_mode": {
    "name": "ipython",
    "version": 3
   },
   "file_extension": ".py",
   "mimetype": "text/x-python",
   "name": "python",
   "nbconvert_exporter": "python",
   "pygments_lexer": "ipython3",
   "version": "3.7.4"
  }
 },
 "nbformat": 4,
 "nbformat_minor": 2
}
