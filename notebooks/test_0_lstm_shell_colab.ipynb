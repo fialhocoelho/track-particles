{
  "nbformat": 4,
  "nbformat_minor": 0,
  "metadata": {
    "kernelspec": {
      "name": "python3",
      "display_name": "Python 3"
    },
    "colab": {
      "name": "test_0_lstm_shell_colab.ipynb",
      "provenance": [],
      "collapsed_sections": []
    },
    "accelerator": "GPU"
  },
  "cells": [
    {
      "cell_type": "code",
      "metadata": {
        "id": "M3F6BpYAvink",
        "colab_type": "code",
        "outputId": "3958089e-baa7-4ac9-8b82-aaab0fb7d87b",
        "colab": {
          "base_uri": "https://localhost:8080/",
          "height": 272
        }
      },
      "source": [
        "!pip install git+https://github.com/LAL/trackml-library.git"
      ],
      "execution_count": 1,
      "outputs": [
        {
          "output_type": "stream",
          "text": [
            "Collecting git+https://github.com/LAL/trackml-library.git\n",
            "  Cloning https://github.com/LAL/trackml-library.git to /tmp/pip-req-build-fitkp9sp\n",
            "  Running command git clone -q https://github.com/LAL/trackml-library.git /tmp/pip-req-build-fitkp9sp\n",
            "Requirement already satisfied: numpy in /usr/local/lib/python3.6/dist-packages (from trackml==3) (1.17.5)\n",
            "Requirement already satisfied: pandas>=0.21.0 in /usr/local/lib/python3.6/dist-packages (from trackml==3) (0.25.3)\n",
            "Requirement already satisfied: python-dateutil>=2.6.1 in /usr/local/lib/python3.6/dist-packages (from pandas>=0.21.0->trackml==3) (2.6.1)\n",
            "Requirement already satisfied: pytz>=2017.2 in /usr/local/lib/python3.6/dist-packages (from pandas>=0.21.0->trackml==3) (2018.9)\n",
            "Requirement already satisfied: six>=1.5 in /usr/local/lib/python3.6/dist-packages (from python-dateutil>=2.6.1->pandas>=0.21.0->trackml==3) (1.12.0)\n",
            "Building wheels for collected packages: trackml\n",
            "  Building wheel for trackml (setup.py) ... \u001b[?25l\u001b[?25hdone\n",
            "  Created wheel for trackml: filename=trackml-3-py2.py3-none-any.whl size=13512 sha256=0e73b3dde178430134ca63a6195244f102be581d6b4de5db977c9afe05aa5980\n",
            "  Stored in directory: /tmp/pip-ephem-wheel-cache-pj8lxrdx/wheels/0f/9a/5f/be8818e35f0d18b449158a62387337b237826b5cc21a1b28eb\n",
            "Successfully built trackml\n",
            "Installing collected packages: trackml\n",
            "Successfully installed trackml-3\n"
          ],
          "name": "stdout"
        }
      ]
    },
    {
      "cell_type": "code",
      "metadata": {
        "id": "FxTEETqKnRPf",
        "colab_type": "code",
        "outputId": "16724c2a-9205-42e7-9e52-cfbcd6e24439",
        "colab": {
          "base_uri": "https://localhost:8080/",
          "height": 153
        }
      },
      "source": [
        "# Clonning the repository\n",
        "!git clone https://github.com/stonescenter/track-particles.git cloned-repo\n",
        "!ls"
      ],
      "execution_count": 2,
      "outputs": [
        {
          "output_type": "stream",
          "text": [
            "Cloning into 'cloned-repo'...\n",
            "remote: Enumerating objects: 101, done.\u001b[K\n",
            "remote: Counting objects:   0% (1/101)\u001b[K\rremote: Counting objects:   1% (2/101)\u001b[K\rremote: Counting objects:   2% (3/101)\u001b[K\rremote: Counting objects:   3% (4/101)\u001b[K\rremote: Counting objects:   4% (5/101)\u001b[K\rremote: Counting objects:   5% (6/101)\u001b[K\rremote: Counting objects:   6% (7/101)\u001b[K\rremote: Counting objects:   7% (8/101)\u001b[K\rremote: Counting objects:   8% (9/101)\u001b[K\rremote: Counting objects:   9% (10/101)\u001b[K\rremote: Counting objects:  10% (11/101)\u001b[K\rremote: Counting objects:  11% (12/101)\u001b[K\rremote: Counting objects:  12% (13/101)\u001b[K\rremote: Counting objects:  13% (14/101)\u001b[K\rremote: Counting objects:  14% (15/101)\u001b[K\rremote: Counting objects:  15% (16/101)\u001b[K\rremote: Counting objects:  16% (17/101)\u001b[K\rremote: Counting objects:  17% (18/101)\u001b[K\rremote: Counting objects:  18% (19/101)\u001b[K\rremote: Counting objects:  19% (20/101)\u001b[K\rremote: Counting objects:  20% (21/101)\u001b[K\rremote: Counting objects:  21% (22/101)\u001b[K\rremote: Counting objects:  22% (23/101)\u001b[K\rremote: Counting objects:  23% (24/101)\u001b[K\rremote: Counting objects:  24% (25/101)\u001b[K\rremote: Counting objects:  25% (26/101)\u001b[K\rremote: Counting objects:  26% (27/101)\u001b[K\rremote: Counting objects:  27% (28/101)\u001b[K\rremote: Counting objects:  28% (29/101)\u001b[K\rremote: Counting objects:  29% (30/101)\u001b[K\rremote: Counting objects:  30% (31/101)\u001b[K\rremote: Counting objects:  31% (32/101)\u001b[K\rremote: Counting objects:  32% (33/101)\u001b[K\rremote: Counting objects:  33% (34/101)\u001b[K\rremote: Counting objects:  34% (35/101)\u001b[K\rremote: Counting objects:  35% (36/101)\u001b[K\rremote: Counting objects:  36% (37/101)\u001b[K\rremote: Counting objects:  37% (38/101)\u001b[K\rremote: Counting objects:  38% (39/101)\u001b[K\rremote: Counting objects:  39% (40/101)\u001b[K\rremote: Counting objects:  40% (41/101)\u001b[K\rremote: Counting objects:  41% (42/101)\u001b[K\rremote: Counting objects:  42% (43/101)\u001b[K\rremote: Counting objects:  43% (44/101)\u001b[K\rremote: Counting objects:  44% (45/101)\u001b[K\rremote: Counting objects:  45% (46/101)\u001b[K\rremote: Counting objects:  46% (47/101)\u001b[K\rremote: Counting objects:  47% (48/101)\u001b[K\rremote: Counting objects:  48% (49/101)\u001b[K\rremote: Counting objects:  49% (50/101)\u001b[K\rremote: Counting objects:  50% (51/101)\u001b[K\rremote: Counting objects:  51% (52/101)\u001b[K\rremote: Counting objects:  52% (53/101)\u001b[K\rremote: Counting objects:  53% (54/101)\u001b[K\rremote: Counting objects:  54% (55/101)\u001b[K\rremote: Counting objects:  55% (56/101)\u001b[K\rremote: Counting objects:  56% (57/101)\u001b[K\rremote: Counting objects:  57% (58/101)\u001b[K\rremote: Counting objects:  58% (59/101)\u001b[K\rremote: Counting objects:  59% (60/101)\u001b[K\rremote: Counting objects:  60% (61/101)\u001b[K\rremote: Counting objects:  61% (62/101)\u001b[K\rremote: Counting objects:  62% (63/101)\u001b[K\rremote: Counting objects:  63% (64/101)\u001b[K\rremote: Counting objects:  64% (65/101)\u001b[K\rremote: Counting objects:  65% (66/101)\u001b[K\rremote: Counting objects:  66% (67/101)\u001b[K\rremote: Counting objects:  67% (68/101)\u001b[K\rremote: Counting objects:  68% (69/101)\u001b[K\rremote: Counting objects:  69% (70/101)\u001b[K\rremote: Counting objects:  70% (71/101)\u001b[K\rremote: Counting objects:  71% (72/101)\u001b[K\rremote: Counting objects:  72% (73/101)\u001b[K\rremote: Counting objects:  73% (74/101)\u001b[K\rremote: Counting objects:  74% (75/101)\u001b[K\rremote: Counting objects:  75% (76/101)\u001b[K\rremote: Counting objects:  76% (77/101)\u001b[K\rremote: Counting objects:  77% (78/101)\u001b[K\rremote: Counting objects:  78% (79/101)\u001b[K\rremote: Counting objects:  79% (80/101)\u001b[K\rremote: Counting objects:  80% (81/101)\u001b[K\rremote: Counting objects:  81% (82/101)\u001b[K\rremote: Counting objects:  82% (83/101)\u001b[K\rremote: Counting objects:  83% (84/101)\u001b[K\rremote: Counting objects:  84% (85/101)\u001b[K\rremote: Counting objects:  85% (86/101)\u001b[K\rremote: Counting objects:  86% (87/101)\u001b[K\rremote: Counting objects:  87% (88/101)\u001b[K\rremote: Counting objects:  88% (89/101)\u001b[K\rremote: Counting objects:  89% (90/101)\u001b[K\rremote: Counting objects:  90% (91/101)\u001b[K\rremote: Counting objects:  91% (92/101)\u001b[K\rremote: Counting objects:  92% (93/101)\u001b[K\rremote: Counting objects:  93% (94/101)\u001b[K\rremote: Counting objects:  94% (95/101)\u001b[K\rremote: Counting objects:  95% (96/101)\u001b[K\rremote: Counting objects:  96% (97/101)\u001b[K\rremote: Counting objects:  97% (98/101)\u001b[K\rremote: Counting objects:  98% (99/101)\u001b[K\rremote: Counting objects:  99% (100/101)\u001b[K\rremote: Counting objects: 100% (101/101)\u001b[K\rremote: Counting objects: 100% (101/101), done.\u001b[K\n",
            "remote: Compressing objects: 100% (59/59), done.\u001b[K\n",
            "remote: Total 101 (delta 45), reused 98 (delta 42), pack-reused 0\u001b[K\n",
            "Receiving objects: 100% (101/101), 11.74 MiB | 20.33 MiB/s, done.\n",
            "Resolving deltas: 100% (45/45), done.\n",
            "cloned-repo  sample_data\n"
          ],
          "name": "stdout"
        }
      ]
    },
    {
      "cell_type": "code",
      "metadata": {
        "id": "LV6JIsjJoB5D",
        "colab_type": "code",
        "outputId": "a9492fe5-2363-4590-8c09-649899ada152",
        "colab": {
          "base_uri": "https://localhost:8080/",
          "height": 34
        }
      },
      "source": [
        "%cd cloned-repo/"
      ],
      "execution_count": 3,
      "outputs": [
        {
          "output_type": "stream",
          "text": [
            "/content/cloned-repo\n"
          ],
          "name": "stdout"
        }
      ]
    },
    {
      "cell_type": "markdown",
      "metadata": {
        "id": "pnEIHTG0oPZ-",
        "colab_type": "text"
      },
      "source": [
        "# Running scripts with python shell #"
      ]
    },
    {
      "cell_type": "code",
      "metadata": {
        "id": "U1sfVt_eofwI",
        "colab_type": "code",
        "outputId": "6cac3d0a-bef7-4fe7-8fe9-dba29d99be8e",
        "colab": {
          "base_uri": "https://localhost:8080/",
          "height": 1000
        }
      },
      "source": [
        "! python main-paralel.py"
      ],
      "execution_count": 4,
      "outputs": [
        {
          "output_type": "stream",
          "text": [
            "Using TensorFlow backend.\n",
            "[Data] data loaded from  ./dataset/phi025-025_eta025-025_filtered.csv\n",
            "[Data] shape datas X:  (15192, 16)\n",
            "[Data] shape data y:  (15192, 3)\n",
            "[Data] len data total: 15192\n",
            "[Data] shape data X_train.shape: (10634, 4, 3)\n",
            "[Data] shape data X_test.shape: (4558, 4, 3)\n",
            "[Data] shape data y_train.shape: (10634, 3)\n",
            "[Data] shape data y_test.shape: (4558, 3)\n",
            "WARNING:tensorflow:From /usr/local/lib/python3.6/dist-packages/keras/backend/tensorflow_backend.py:66: The name tf.get_default_graph is deprecated. Please use tf.compat.v1.get_default_graph instead.\n",
            "\n",
            "WARNING:tensorflow:From /content/cloned-repo/core/models/base.py:34: The name tf.ConfigProto is deprecated. Please use tf.compat.v1.ConfigProto instead.\n",
            "\n",
            "WARNING:tensorflow:From /content/cloned-repo/core/models/base.py:36: The name tf.Session is deprecated. Please use tf.compat.v1.Session instead.\n",
            "\n",
            "2020-02-11 17:37:10.217773: I tensorflow/core/platform/profile_utils/cpu_utils.cc:94] CPU Frequency: 2300000000 Hz\n",
            "2020-02-11 17:37:10.220034: I tensorflow/compiler/xla/service/service.cc:168] XLA service 0x1cdcbc0 initialized for platform Host (this does not guarantee that XLA will be used). Devices:\n",
            "2020-02-11 17:37:10.220125: I tensorflow/compiler/xla/service/service.cc:176]   StreamExecutor device (0): Host, Default Version\n",
            "2020-02-11 17:37:10.225730: I tensorflow/stream_executor/platform/default/dso_loader.cc:44] Successfully opened dynamic library libcuda.so.1\n",
            "2020-02-11 17:37:10.423010: I tensorflow/stream_executor/cuda/cuda_gpu_executor.cc:983] successful NUMA node read from SysFS had negative value (-1), but there must be at least one NUMA node, so returning NUMA node zero\n",
            "2020-02-11 17:37:10.423712: I tensorflow/compiler/xla/service/service.cc:168] XLA service 0x1cdca00 initialized for platform CUDA (this does not guarantee that XLA will be used). Devices:\n",
            "2020-02-11 17:37:10.423741: I tensorflow/compiler/xla/service/service.cc:176]   StreamExecutor device (0): Tesla T4, Compute Capability 7.5\n",
            "2020-02-11 17:37:10.424877: I tensorflow/stream_executor/cuda/cuda_gpu_executor.cc:983] successful NUMA node read from SysFS had negative value (-1), but there must be at least one NUMA node, so returning NUMA node zero\n",
            "2020-02-11 17:37:10.425408: I tensorflow/core/common_runtime/gpu/gpu_device.cc:1618] Found device 0 with properties: \n",
            "name: Tesla T4 major: 7 minor: 5 memoryClockRate(GHz): 1.59\n",
            "pciBusID: 0000:00:04.0\n",
            "2020-02-11 17:37:10.436399: I tensorflow/stream_executor/platform/default/dso_loader.cc:44] Successfully opened dynamic library libcudart.so.10.1\n",
            "2020-02-11 17:37:10.692470: I tensorflow/stream_executor/platform/default/dso_loader.cc:44] Successfully opened dynamic library libcublas.so.10\n",
            "2020-02-11 17:37:10.822827: I tensorflow/stream_executor/platform/default/dso_loader.cc:44] Successfully opened dynamic library libcufft.so.10\n",
            "2020-02-11 17:37:10.840454: I tensorflow/stream_executor/platform/default/dso_loader.cc:44] Successfully opened dynamic library libcurand.so.10\n",
            "2020-02-11 17:37:11.108313: I tensorflow/stream_executor/platform/default/dso_loader.cc:44] Successfully opened dynamic library libcusolver.so.10\n",
            "2020-02-11 17:37:11.139476: I tensorflow/stream_executor/platform/default/dso_loader.cc:44] Successfully opened dynamic library libcusparse.so.10\n",
            "2020-02-11 17:37:11.638169: I tensorflow/stream_executor/platform/default/dso_loader.cc:44] Successfully opened dynamic library libcudnn.so.7\n",
            "2020-02-11 17:37:11.638416: I tensorflow/stream_executor/cuda/cuda_gpu_executor.cc:983] successful NUMA node read from SysFS had negative value (-1), but there must be at least one NUMA node, so returning NUMA node zero\n",
            "2020-02-11 17:37:11.639065: I tensorflow/stream_executor/cuda/cuda_gpu_executor.cc:983] successful NUMA node read from SysFS had negative value (-1), but there must be at least one NUMA node, so returning NUMA node zero\n",
            "2020-02-11 17:37:11.639557: I tensorflow/core/common_runtime/gpu/gpu_device.cc:1746] Adding visible gpu devices: 0\n",
            "2020-02-11 17:37:11.641431: I tensorflow/stream_executor/platform/default/dso_loader.cc:44] Successfully opened dynamic library libcudart.so.10.1\n",
            "2020-02-11 17:37:11.644357: I tensorflow/core/common_runtime/gpu/gpu_device.cc:1159] Device interconnect StreamExecutor with strength 1 edge matrix:\n",
            "2020-02-11 17:37:11.644394: I tensorflow/core/common_runtime/gpu/gpu_device.cc:1165]      0 \n",
            "2020-02-11 17:37:11.644408: I tensorflow/core/common_runtime/gpu/gpu_device.cc:1178] 0:   N \n",
            "2020-02-11 17:37:11.645680: I tensorflow/stream_executor/cuda/cuda_gpu_executor.cc:983] successful NUMA node read from SysFS had negative value (-1), but there must be at least one NUMA node, so returning NUMA node zero\n",
            "2020-02-11 17:37:11.646305: I tensorflow/stream_executor/cuda/cuda_gpu_executor.cc:983] successful NUMA node read from SysFS had negative value (-1), but there must be at least one NUMA node, so returning NUMA node zero\n",
            "2020-02-11 17:37:11.646832: I tensorflow/core/common_runtime/gpu/gpu_device.cc:1304] Created TensorFlow device (/job:localhost/replica:0/task:0/device:GPU:0 with 14221 MB memory) -> physical GPU (device: 0, name: Tesla T4, pci bus id: 0000:00:04.0, compute capability: 7.5)\n",
            "[Model] Creating model..\n",
            "WARNING:tensorflow:From /usr/local/lib/python3.6/dist-packages/keras/backend/tensorflow_backend.py:541: The name tf.placeholder is deprecated. Please use tf.compat.v1.placeholder instead.\n",
            "\n",
            "WARNING:tensorflow:From /usr/local/lib/python3.6/dist-packages/keras/backend/tensorflow_backend.py:4432: The name tf.random_uniform is deprecated. Please use tf.random.uniform instead.\n",
            "\n",
            "WARNING:tensorflow:From /usr/local/lib/python3.6/dist-packages/keras/backend/tensorflow_backend.py:148: The name tf.placeholder_with_default is deprecated. Please use tf.compat.v1.placeholder_with_default instead.\n",
            "\n",
            "WARNING:tensorflow:From /usr/local/lib/python3.6/dist-packages/keras/backend/tensorflow_backend.py:3733: calling dropout (from tensorflow.python.ops.nn_ops) with keep_prob is deprecated and will be removed in a future version.\n",
            "Instructions for updating:\n",
            "Please use `rate` instead of `keep_prob`. Rate should be set to `rate = 1 - keep_prob`.\n",
            "WARNING:tensorflow:From /usr/local/lib/python3.6/dist-packages/keras/optimizers.py:793: The name tf.train.Optimizer is deprecated. Please use tf.compat.v1.train.Optimizer instead.\n",
            "\n",
            "[Model] Model Compiled with structure: [<tf.Tensor 'input_1:0' shape=(?, 4, 3) dtype=float32>, <tf.Tensor 'input_2:0' shape=(?, 4, 1) dtype=float32>]\n",
            "Time taken: 0:00:00.833388\n",
            "[Model] Training Started\n",
            "[Model] 20 epochs, 128 batch size\n",
            "WARNING:tensorflow:From /usr/local/lib/python3.6/dist-packages/tensorflow_core/python/ops/math_grad.py:1424: where (from tensorflow.python.ops.array_ops) is deprecated and will be removed in a future version.\n",
            "Instructions for updating:\n",
            "Use tf.where in 2.0, which has the same broadcast rule as np.where\n",
            "WARNING:tensorflow:From /usr/local/lib/python3.6/dist-packages/keras/backend/tensorflow_backend.py:1033: The name tf.assign_add is deprecated. Please use tf.compat.v1.assign_add instead.\n",
            "\n",
            "WARNING:tensorflow:From /usr/local/lib/python3.6/dist-packages/keras/backend/tensorflow_backend.py:1020: The name tf.assign is deprecated. Please use tf.compat.v1.assign instead.\n",
            "\n",
            "Train on 7124 samples, validate on 3510 samples\n",
            "Epoch 1/20\n",
            "WARNING:tensorflow:From /usr/local/lib/python3.6/dist-packages/keras/backend/tensorflow_backend.py:190: The name tf.get_default_session is deprecated. Please use tf.compat.v1.get_default_session instead.\n",
            "\n",
            "WARNING:tensorflow:From /usr/local/lib/python3.6/dist-packages/keras/backend/tensorflow_backend.py:207: The name tf.global_variables is deprecated. Please use tf.compat.v1.global_variables instead.\n",
            "\n",
            "WARNING:tensorflow:From /usr/local/lib/python3.6/dist-packages/keras/backend/tensorflow_backend.py:216: The name tf.is_variable_initialized is deprecated. Please use tf.compat.v1.is_variable_initialized instead.\n",
            "\n",
            "WARNING:tensorflow:From /usr/local/lib/python3.6/dist-packages/keras/backend/tensorflow_backend.py:223: The name tf.variables_initializer is deprecated. Please use tf.compat.v1.variables_initializer instead.\n",
            "\n",
            "2020-02-11 17:37:21.199539: I tensorflow/stream_executor/platform/default/dso_loader.cc:44] Successfully opened dynamic library libcublas.so.10\n",
            "7124/7124 [==============================] - 10s 1ms/step - loss: 0.1314 - acc: 0.8519 - val_loss: 0.0488 - val_acc: 0.9191\n",
            "Epoch 2/20\n",
            "7124/7124 [==============================] - 1s 170us/step - loss: 0.0501 - acc: 0.9057 - val_loss: 0.0502 - val_acc: 0.9262\n",
            "Epoch 3/20\n",
            "7124/7124 [==============================] - 1s 194us/step - loss: 0.0377 - acc: 0.9260 - val_loss: 0.0300 - val_acc: 0.9390\n",
            "Epoch 4/20\n",
            "7124/7124 [==============================] - 1s 175us/step - loss: 0.0277 - acc: 0.9328 - val_loss: 0.0149 - val_acc: 0.9487\n",
            "Epoch 5/20\n",
            "7124/7124 [==============================] - 1s 181us/step - loss: 0.0221 - acc: 0.9467 - val_loss: 0.0131 - val_acc: 0.9510\n",
            "Epoch 6/20\n",
            "7124/7124 [==============================] - 1s 178us/step - loss: 0.0191 - acc: 0.9519 - val_loss: 0.0097 - val_acc: 0.9650\n",
            "Epoch 7/20\n",
            "7124/7124 [==============================] - 1s 177us/step - loss: 0.0195 - acc: 0.9580 - val_loss: 0.0164 - val_acc: 0.9610\n",
            "Epoch 8/20\n",
            "7124/7124 [==============================] - 1s 179us/step - loss: 0.0168 - acc: 0.9580 - val_loss: 0.0122 - val_acc: 0.9587\n",
            "[Model] Model for inference saved at results/model-lstm-paralel.h5\n",
            "[Model] Model Architecture saved at results/architecture-lstm-paralel.png\n",
            "Model: \"model_1\"\n",
            "__________________________________________________________________________________________________\n",
            "Layer (type)                    Output Shape         Param #     Connected to                     \n",
            "==================================================================================================\n",
            "input_1 (InputLayer)            (None, 4, 3)         0                                            \n",
            "__________________________________________________________________________________________________\n",
            "input_2 (InputLayer)            (None, 4, 1)         0                                            \n",
            "__________________________________________________________________________________________________\n",
            "lstm_1 (LSTM)                   (None, 400)          646400      input_1[0][0]                    \n",
            "__________________________________________________________________________________________________\n",
            "lstm_2 (LSTM)                   (None, 400)          643200      input_2[0][0]                    \n",
            "__________________________________________________________________________________________________\n",
            "concatenate_1 (Concatenate)     (None, 800)          0           lstm_1[0][0]                     \n",
            "                                                                 lstm_2[0][0]                     \n",
            "__________________________________________________________________________________________________\n",
            "dense_1 (Dense)                 (None, 400)          320400      concatenate_1[0][0]              \n",
            "__________________________________________________________________________________________________\n",
            "dropout_1 (Dropout)             (None, 400)          0           dense_1[0][0]                    \n",
            "__________________________________________________________________________________________________\n",
            "dense_2 (Dense)                 (None, 20)           8020        dropout_1[0][0]                  \n",
            "__________________________________________________________________________________________________\n",
            "dense_3 (Dense)                 (None, 3)            63          dense_2[0][0]                    \n",
            "==================================================================================================\n",
            "Total params: 1,618,083\n",
            "Trainable params: 1,618,083\n",
            "Non-trainable params: 0\n",
            "__________________________________________________________________________________________________\n",
            "[Model] Training Completed. Model h5 saved as results/model-lstm-paralel.h5\n",
            "[Model] Model train with structure: [<tf.Tensor 'input_1:0' shape=(?, 4, 3) dtype=float32>, <tf.Tensor 'input_2:0' shape=(?, 4, 1) dtype=float32>]\n",
            "Time taken: 0:00:21.221179\n",
            "dict_keys(['val_loss', 'val_acc', 'loss', 'acc'])\n",
            "[Ouput] Validation accuracy: 0.9586894584517194, loss: 0.01222139535222383\n",
            "<Figure size 640x480 with 1 Axes>\n",
            "<Figure size 640x480 with 1 Axes>\n",
            "[Output] resulta saved at %s results/eval-loss.png\n",
            "[Model] Predicting Point-by-Point...\n",
            "[Model] Shape predict result (4558, 3) size 13674\n",
            "[Output] ---Regression Scores--- \n",
            "\tR_2 statistics        (R2)  = 0.988\n",
            "\tRoot Mean Square Error(RMSE) = 0.109\n",
            "\tMean Absolute Error   (MAE) = 0.059\n",
            "\n",
            "RMSE:\t\t[0.109] \n",
            "RMSE features: \t[0.13, 0.11, 0.08] \n",
            "R^2  features:\t[0.98, 0.99, 0.99] \n",
            "(4558, 3)\n",
            "(4558, 3)\n",
            "[Data] shape datas X:  (15192, 16)\n",
            "[Data] shape data y:  (15192, 3)\n",
            "[Data] len data total: 15192\n",
            "[Output] Results saved at % results\n"
          ],
          "name": "stdout"
        }
      ]
    },
    {
      "cell_type": "markdown",
      "metadata": {
        "id": "gBV8xFlRvF-0",
        "colab_type": "text"
      },
      "source": [
        "# Plot Predicted Data #\n"
      ]
    },
    {
      "cell_type": "code",
      "metadata": {
        "id": "pDn6fofHIgN2",
        "colab_type": "code",
        "outputId": "bc54586a-a7eb-4e4c-83c1-e50b724ea75c",
        "colab": {
          "base_uri": "https://localhost:8080/",
          "height": 255
        }
      },
      "source": [
        "!pip install plotly.express"
      ],
      "execution_count": 5,
      "outputs": [
        {
          "output_type": "stream",
          "text": [
            "Collecting plotly.express\n",
            "  Downloading https://files.pythonhosted.org/packages/d4/d6/8a2906f51e073a4be80cab35cfa10e7a34853e60f3ed5304ac470852a08d/plotly_express-0.4.1-py2.py3-none-any.whl\n",
            "Requirement already satisfied: plotly>=4.1.0 in /usr/local/lib/python3.6/dist-packages (from plotly.express) (4.4.1)\n",
            "Requirement already satisfied: numpy>=1.11 in /usr/local/lib/python3.6/dist-packages (from plotly.express) (1.17.5)\n",
            "Requirement already satisfied: scipy>=0.18 in /usr/local/lib/python3.6/dist-packages (from plotly.express) (1.4.1)\n",
            "Requirement already satisfied: patsy>=0.5 in /usr/local/lib/python3.6/dist-packages (from plotly.express) (0.5.1)\n",
            "Requirement already satisfied: pandas>=0.20.0 in /usr/local/lib/python3.6/dist-packages (from plotly.express) (0.25.3)\n",
            "Requirement already satisfied: statsmodels>=0.9.0 in /usr/local/lib/python3.6/dist-packages (from plotly.express) (0.10.2)\n",
            "Requirement already satisfied: six in /usr/local/lib/python3.6/dist-packages (from plotly>=4.1.0->plotly.express) (1.12.0)\n",
            "Requirement already satisfied: retrying>=1.3.3 in /usr/local/lib/python3.6/dist-packages (from plotly>=4.1.0->plotly.express) (1.3.3)\n",
            "Requirement already satisfied: pytz>=2017.2 in /usr/local/lib/python3.6/dist-packages (from pandas>=0.20.0->plotly.express) (2018.9)\n",
            "Requirement already satisfied: python-dateutil>=2.6.1 in /usr/local/lib/python3.6/dist-packages (from pandas>=0.20.0->plotly.express) (2.6.1)\n",
            "Installing collected packages: plotly.express\n",
            "Successfully installed plotly.express\n"
          ],
          "name": "stdout"
        }
      ]
    },
    {
      "cell_type": "code",
      "metadata": {
        "id": "C18cyF5nnAy4",
        "colab_type": "code",
        "colab": {}
      },
      "source": [
        "import numpy as np\n",
        "import pandas as pd\n",
        "\n",
        "path1 = 'results/x_test.csv'\n",
        "path2 = 'results/y_true.csv'\n",
        "path3 = 'results/y_pred.csv'\n",
        "\n",
        "x_test = pd.read_csv(path1, header=None)\n",
        "y_test = pd.read_csv(path2, header=None)\n",
        "y_pred = pd.read_csv(path3, header=None)\n",
        "\n",
        "test = pd.concat([x_test, y_test], axis = 1, ignore_index = True)\n",
        "pred = pd.concat([x_test, y_pred], axis = 1, ignore_index = True)\n",
        "test.name = 'real'\n",
        "pred.name = 'predict'"
      ],
      "execution_count": 0,
      "outputs": []
    },
    {
      "cell_type": "code",
      "metadata": {
        "id": "TRb2N2IgGFfm",
        "colab_type": "code",
        "outputId": "4d24da6a-b384-4d0f-a29e-e3178594870e",
        "colab": {
          "base_uri": "https://localhost:8080/",
          "height": 34
        }
      },
      "source": [
        "import plotly\n",
        "import plotly.graph_objs as go\n",
        "from plotly.offline import download_plotlyjs, init_notebook_mode, plot, iplot\n",
        "\n",
        "\n",
        "plotly.__version__"
      ],
      "execution_count": 8,
      "outputs": [
        {
          "output_type": "execute_result",
          "data": {
            "text/plain": [
              "'4.4.1'"
            ]
          },
          "metadata": {
            "tags": []
          },
          "execution_count": 8
        }
      ]
    },
    {
      "cell_type": "code",
      "metadata": {
        "id": "LEHETrEcTjpJ",
        "colab_type": "code",
        "outputId": "f573a05b-62fc-4dee-8cba-c7ef0df760d3",
        "colab": {
          "base_uri": "https://localhost:8080/",
          "height": 542
        }
      },
      "source": [
        "from core.utils.utils import *\n",
        "\n",
        "fig = track_plot_xyz([test, pred], n_tracks = 40, \n",
        "               path='track.html', title='Track Prediction #5 Hit')\n",
        "\n",
        "fig.show()\n"
      ],
      "execution_count": 11,
      "outputs": [
        {
          "output_type": "display_data",
          "data": {
            "text/html": [
              "<html>\n",
              "<head><meta charset=\"utf-8\" /></head>\n",
              "<body>\n",
              "    <div>\n",
              "            <script src=\"https://cdnjs.cloudflare.com/ajax/libs/mathjax/2.7.5/MathJax.js?config=TeX-AMS-MML_SVG\"></script><script type=\"text/javascript\">if (window.MathJax) {MathJax.Hub.Config({SVG: {font: \"STIX-Web\"}});}</script>\n",
              "                <script type=\"text/javascript\">window.PlotlyConfig = {MathJaxConfig: 'local'};</script>\n",
              "        <script src=\"https://cdn.plot.ly/plotly-latest.min.js\"></script>    \n",
              "            <div id=\"891d913f-7f12-4531-8bba-58cec0e1f4c5\" class=\"plotly-graph-div\" style=\"height:525px; width:100%;\"></div>\n",
              "            <script type=\"text/javascript\">\n",
              "                \n",
              "                    window.PLOTLYENV=window.PLOTLYENV || {};\n",
              "                    \n",
              "                if (document.getElementById(\"891d913f-7f12-4531-8bba-58cec0e1f4c5\")) {\n",
              "                    Plotly.newPlot(\n",
              "                        '891d913f-7f12-4531-8bba-58cec0e1f4c5',\n",
              "                        [{\"line\": {\"color\": \"red\", \"width\": 3}, \"marker\": {\"color\": \"red\", \"opacity\": 0.5, \"size\": 3}, \"name\": \"real 0\", \"opacity\": 0.5, \"type\": \"scatter3d\", \"x\": [31.94099998474121, 71.65660095214844, 115.55500030517578, 171.3769989013672, 259.57501220703125], \"y\": [-0.7839149832725525, -1.2155200242996216, -0.965728998184204, 0.390731006860733, 4.886899948120117], \"z\": [0.12812399864196775, -4.934380054473877, -10.503100395202637, -17.590499877929688, -28.20000076293945]}, {\"line\": {\"color\": \"red\", \"width\": 3}, \"marker\": {\"color\": \"red\", \"opacity\": 0.5, \"size\": 3}, \"name\": \"real 1\", \"opacity\": 0.5, \"type\": \"scatter3d\", \"x\": [32.000999450683594, 71.07009887695312, 116.5009994506836, 172.0469970703125, 259.9119873046875], \"y\": [0.28011301159858704, 0.958450973033905, 2.25465989112854, 4.523369789123535, 9.594860076904297], \"z\": [0.7590109705924988, 8.131819725036621, 16.732900619506836, 27.25399971008301, 43.79999923706055]}, {\"line\": {\"color\": \"red\", \"width\": 3}, \"marker\": {\"color\": \"red\", \"opacity\": 0.5, \"size\": 3}, \"name\": \"real 2\", \"opacity\": 0.5, \"type\": \"scatter3d\", \"x\": [31.640899658203125, 70.41410064697266, 114.41400146484376, 171.09300231933594, 254.8780059814453], \"y\": [-6.103600025177003, -12.786700248718262, -19.292999267578125, -25.940900802612305, -32.427600860595696], \"z\": [-2.151089906692505, -10.293100357055664, -19.582199096679688, -31.61969947814941, -49.599998474121094]}, {\"line\": {\"color\": \"red\", \"width\": 3}, \"marker\": {\"color\": \"red\", \"opacity\": 0.5, \"size\": 3}, \"name\": \"real 3\", \"opacity\": 0.5, \"type\": \"scatter3d\", \"x\": [32.392101287841804, 71.59239959716797, 114.99700164794922, 172.343994140625, 260.53500366210943], \"y\": [4.112959861755371, 8.357359886169434, 12.144200325012207, 15.704099655151367, 18.292600631713867], \"z\": [-3.6968801021575928, -10.584500312805176, -18.1658992767334, -28.153099060058594, -43.79999923706055]}, {\"line\": {\"color\": \"red\", \"width\": 3}, \"marker\": {\"color\": \"red\", \"opacity\": 0.5, \"size\": 3}, \"name\": \"real 4\", \"opacity\": 0.5, \"type\": \"scatter3d\", \"x\": [31.871400833129893, 71.7605972290039, 115.33699798583984, 171.30499267578125, 265.8070068359375], \"y\": [-2.017119884490967, -3.701090097427368, -4.452960014343262, -3.8584499359130864, 1.465939998626709], \"z\": [-6.509379863739014, -0.8944630026817322, 5.172269821166992, 12.951600074768065, 25.79999923706055]}, {\"line\": {\"color\": \"red\", \"width\": 3}, \"marker\": {\"color\": \"red\", \"opacity\": 0.5, \"size\": 3}, \"name\": \"real 5\", \"opacity\": 0.5, \"type\": \"scatter3d\", \"x\": [32.10020065307617, 72.60890197753906, 116.2509994506836, 172.00900268554688, 259.80599975585943], \"y\": [2.038180112838745, 4.170460224151611, 5.968989849090576, 7.4919800758361825, 8.118630409240723], \"z\": [-1.221869945526123, -6.330540180206299, -11.77560043334961, -18.709999084472656, -29.399999618530273]}, {\"line\": {\"color\": \"red\", \"width\": 3}, \"marker\": {\"color\": \"red\", \"opacity\": 0.5, \"size\": 3}, \"name\": \"real 6\", \"opacity\": 0.5, \"type\": \"scatter3d\", \"x\": [31.8439998626709, 70.71769714355469, 115.22699737548828, 169.90699768066406, 261.57998657226557], \"y\": [5.680449962615968, 11.960000038146973, 18.306100845336914, 24.8356990814209, 32.895198822021484], \"z\": [-1.2172199487686155, -8.516209602355957, -16.84749984741211, -27.08329963684082, -43.79999923706055]}, {\"line\": {\"color\": \"red\", \"width\": 3}, \"marker\": {\"color\": \"red\", \"opacity\": 0.5, \"size\": 3}, \"name\": \"real 7\", \"opacity\": 0.5, \"type\": \"scatter3d\", \"x\": [31.395000457763672, 71.28130340576172, 115.5510025024414, 172.08200073242188, 260.80499267578125], \"y\": [-1.6720399856567385, -4.0892300605773935, -7.136940002441406, -11.626299858093262, -20.039899826049805], \"z\": [5.046879768371582, 5.778130054473878, 6.565619945526122, 7.634369850158691, 9.0]}, {\"line\": {\"color\": \"red\", \"width\": 3}, \"marker\": {\"color\": \"red\", \"opacity\": 0.5, \"size\": 3}, \"name\": \"real 8\", \"opacity\": 0.5, \"type\": \"scatter3d\", \"x\": [31.53400039672852, 69.77989959716797, 113.64600372314452, 168.21499633789062, 259.95098876953125], \"y\": [-8.000120162963867, -16.858400344848633, -25.89789962768555, -35.39099884033203, -47.06420135498047], \"z\": [-5.947800159454348, 0.027191100642085075, 6.895199775695801, 15.37310028076172, 29.399999618530273]}, {\"line\": {\"color\": \"red\", \"width\": 3}, \"marker\": {\"color\": \"red\", \"opacity\": 0.5, \"size\": 3}, \"name\": \"real 9\", \"opacity\": 0.5, \"type\": \"scatter3d\", \"x\": [32.73849868774414, 72.09130096435547, 115.61299896240234, 170.77499389648438, 260.1610107421875], \"y\": [3.1220200061798096, 6.30226993560791, 9.10925006866455, 11.500699996948242, 13.065999984741213], \"z\": [-3.1343801021575928, -1.503119945526123, 0.21137100458145144, 2.346869945526123, 5.400000095367432]}, {\"line\": {\"color\": \"red\", \"width\": 3}, \"marker\": {\"color\": \"red\", \"opacity\": 0.5, \"size\": 3}, \"name\": \"real 10\", \"opacity\": 0.5, \"type\": \"scatter3d\", \"x\": [32.459701538085945, 71.72039794921875, 115.16999816894531, 170.79600524902344, 260.3179931640625], \"y\": [3.919440031051636, 7.8302001953125, 11.291999816894533, 14.145099639892578, 15.26039981842041], \"z\": [-4.765629768371582, -9.53575038909912, -14.73169994354248, -21.528099060058594, -33.0]}, {\"line\": {\"color\": \"red\", \"width\": 3}, \"marker\": {\"color\": \"red\", \"opacity\": 0.5, \"size\": 3}, \"name\": \"real 11\", \"opacity\": 0.5, \"type\": \"scatter3d\", \"x\": [31.41830062866211, 71.2051010131836, 115.69000244140624, 171.61599731445312, 265.90701293945307], \"y\": [-1.2588800191879272, -2.2674601078033447, -2.6598498821258545, -1.9989900588989256, 1.8945000171661373], \"z\": [3.921880006790161, 1.6718800067901611, -0.8843770027160645, -4.090630054473877, -9.0]}, {\"line\": {\"color\": \"red\", \"width\": 3}, \"marker\": {\"color\": \"red\", \"opacity\": 0.5, \"size\": 3}, \"name\": \"real 12\", \"opacity\": 0.5, \"type\": \"scatter3d\", \"x\": [31.25659942626953, 71.4894027709961, 114.13800048828124, 170.48399353027344, 255.94700622558602], \"y\": [-4.126420021057129, -9.060540199279783, -13.989299774169922, -19.980499267578125, -27.83029937744141], \"z\": [7.552080154418945, 17.176399230957028, 27.35849952697754, 40.81579971313477, 61.599998474121094]}, {\"line\": {\"color\": \"red\", \"width\": 3}, \"marker\": {\"color\": \"red\", \"opacity\": 0.5, \"size\": 3}, \"name\": \"real 13\", \"opacity\": 0.5, \"type\": \"scatter3d\", \"x\": [170.58399963378906, 262.68899536132807, 357.5719909667969, 494.4869995117188, 646.3280029296875], \"y\": [-25.225400924682607, -40.31880187988281, -56.972999572753906, -83.17900085449219, -114.96800231933594], \"z\": [15.115599632263185, 29.399999618530273, 43.79999923706055, 65.19999694824219, 89.19999694824219]}, {\"line\": {\"color\": \"red\", \"width\": 3}, \"marker\": {\"color\": \"red\", \"opacity\": 0.5, \"size\": 3}, \"name\": \"real 14\", \"opacity\": 0.5, \"type\": \"scatter3d\", \"x\": [31.16659927368164, 69.93319702148439, 113.87999725341795, 169.08200073242188, 261.35000610351557], \"y\": [-5.720719814300537, -12.65719985961914, -20.242599487304688, -29.367900848388672, -43.61740112304688], \"z\": [4.653130054473877, 3.587559938430786, 2.403130054473877, 0.8593710064888, -1.7999999523162844]}, {\"line\": {\"color\": \"red\", \"width\": 3}, \"marker\": {\"color\": \"red\", \"opacity\": 0.5, \"size\": 3}, \"name\": \"real 15\", \"opacity\": 0.5, \"type\": \"scatter3d\", \"x\": [31.67480087280273, 72.09719848632812, 114.49299621582031, 171.0469970703125, 255.55799865722656], \"y\": [-5.50314998626709, -11.744600296020508, -17.392999649047848, -23.523799896240234, -29.505599975585927], \"z\": [-2.5503900051116943, -12.456299781799315, -22.638599395751953, -36.179500579833984, -56.79999923706055]}, {\"line\": {\"color\": \"red\", \"width\": 3}, \"marker\": {\"color\": \"red\", \"opacity\": 0.5, \"size\": 3}, \"name\": \"real 16\", \"opacity\": 0.5, \"type\": \"scatter3d\", \"x\": [31.981300354003906, 71.58779907226562, 117.08200073242188, 172.48399353027344, 260.1010131835937], \"y\": [-0.07021059840917587, 0.4290600121021271, 1.8804800510406487, 4.883649826049805, 12.228099822998047], \"z\": [0.5218729972839355, -0.7156260013580322, -2.121880054473877, -3.9781301021575928, -6.599999904632568]}, {\"line\": {\"color\": \"red\", \"width\": 3}, \"marker\": {\"color\": \"red\", \"opacity\": 0.5, \"size\": 3}, \"name\": \"real 17\", \"opacity\": 0.5, \"type\": \"scatter3d\", \"x\": [31.88750076293945, 71.75540161132812, 115.88899993896484, 172.0590057373047, 263.85000610351557], \"y\": [-1.7319799661636353, -3.5772299766540527, -5.154510021209717, -6.4264397621154785, -6.949399948120117], \"z\": [-4.4165000915527335, -10.615400314331056, -17.455299377441403, -26.14060020446777, -40.20000076293945]}, {\"line\": {\"color\": \"red\", \"width\": 3}, \"marker\": {\"color\": \"red\", \"opacity\": 0.5, \"size\": 3}, \"name\": \"real 18\", \"opacity\": 0.5, \"type\": \"scatter3d\", \"x\": [31.5900993347168, 72.21929931640625, 115.91300201416016, 171.76100158691406, 259.61700439453125], \"y\": [1.7862800359725952, 3.676759958267212, 5.146279811859131, 6.089290142059326, 5.472070217132568], \"z\": [3.786809921264648, 11.921099662780762, 20.5939998626709, 31.68180084228516, 49.0]}, {\"line\": {\"color\": \"red\", \"width\": 3}, \"marker\": {\"color\": \"red\", \"opacity\": 0.5, \"size\": 3}, \"name\": \"real 19\", \"opacity\": 0.5, \"type\": \"scatter3d\", \"x\": [32.024200439453125, 71.56639862060547, 115.4469985961914, 171.5850067138672, 260.5419921875], \"y\": [0.6903240084648132, 0.9399710297584534, 0.38679298758506775, -1.6818900108337402, -8.077619552612305], \"z\": [-3.6443700790405273, -13.378000259399414, -24.18560028076172, -37.97850036621094, -60.4000015258789]}, {\"line\": {\"color\": \"red\", \"width\": 3}, \"marker\": {\"color\": \"red\", \"opacity\": 0.5, \"size\": 3}, \"name\": \"real 20\", \"opacity\": 0.5, \"type\": \"scatter3d\", \"x\": [32.083301544189446, 72.25900268554688, 115.9489974975586, 171.7550048828125, 259.67498779296875], \"y\": [1.7386599779129028, 3.513159990310669, 4.9709200859069815, 6.126659870147705, 6.283329963684082], \"z\": [-2.5662000179290767, 4.329909801483153, 11.843299865722654, 21.42259979248047, 36.599998474121094]}, {\"line\": {\"color\": \"red\", \"width\": 3}, \"marker\": {\"color\": \"red\", \"opacity\": 0.5, \"size\": 3}, \"name\": \"real 21\", \"opacity\": 0.5, \"type\": \"scatter3d\", \"x\": [31.25200080871582, 71.47969818115234, 114.18199920654295, 170.42300415039062, 260.85000610351557], \"y\": [-4.207920074462892, -8.829480171203613, -12.907099723815918, -16.822599411010742, -19.84510040283203], \"z\": [2.2709200382232666, 6.790629863739014, 11.628100395202635, 17.96470069885254, 28.20000076293945]}, {\"line\": {\"color\": \"red\", \"width\": 3}, \"marker\": {\"color\": \"red\", \"opacity\": 0.5, \"size\": 3}, \"name\": \"real 22\", \"opacity\": 0.5, \"type\": \"scatter3d\", \"x\": [30.920000076293945, 69.49770355224611, 113.0199966430664, 168.6580047607422, 252.5639953613281], \"y\": [6.823150157928468, 14.886899948120115, 23.37190055847168, 33.28730010986328, 46.28720092773438], \"z\": [7.204780101776122, 16.486600875854492, 26.97130012512207, 40.35240173339844, 60.4000015258789]}, {\"line\": {\"color\": \"red\", \"width\": 3}, \"marker\": {\"color\": \"red\", \"opacity\": 0.5, \"size\": 3}, \"name\": \"real 23\", \"opacity\": 0.5, \"type\": \"scatter3d\", \"x\": [31.962200164794922, 71.13240051269531, 114.97699737548828, 172.51400756835938, 259.74099731445307], \"y\": [-0.4079299867153168, -0.5302559733390808, 0.05030209943652153, 1.9619300365448, 7.200980186462402], \"z\": [0.4656260013580322, 3.6968801021575928, 7.296870231628418, 12.064499855041506, 19.799999237060547]}, {\"line\": {\"color\": \"red\", \"width\": 3}, \"marker\": {\"color\": \"red\", \"opacity\": 0.5, \"size\": 3}, \"name\": \"real 24\", \"opacity\": 0.5, \"type\": \"scatter3d\", \"x\": [31.57279968261719, 69.99629974365234, 114.2310028076172, 168.88800048828125, 261.364990234375], \"y\": [-7.31151008605957, -15.468700408935547, -23.74150085449219, -32.513599395751946, -43.580299377441406], \"z\": [0.4780769944190979, -4.315619945526123, -9.781970024108887, -16.465599060058597, -28.20000076293945]}, {\"line\": {\"color\": \"red\", \"width\": 3}, \"marker\": {\"color\": \"red\", \"opacity\": 0.5, \"size\": 3}, \"name\": \"real 25\", \"opacity\": 0.5, \"type\": \"scatter3d\", \"x\": [32.230499267578125, 71.68949890136719, 115.36599731445312, 171.26800537109375, 259.697998046875], \"y\": [3.0748300552368164, 5.8587398529052725, 7.841939926147461, 8.796239852905273, 6.60250997543335], \"z\": [6.602749824523926, 10.053099632263184, 13.760700225830078, 18.4906005859375, 25.79999923706055]}, {\"line\": {\"color\": \"red\", \"width\": 3}, \"marker\": {\"color\": \"red\", \"opacity\": 0.5, \"size\": 3}, \"name\": \"real 26\", \"opacity\": 0.5, \"type\": \"scatter3d\", \"x\": [31.233400344848643, 71.19090270996094, 112.80699920654295, 167.92799377441406, 252.04800415039062], \"y\": [7.427020072937013, 16.551799774169922, 25.579700469970703, 36.8213005065918, 52.30500030517578], \"z\": [-7.0031700134277335, -16.706499099731445, -26.756999969482425, -40.03160095214844, -60.4000015258789]}, {\"line\": {\"color\": \"red\", \"width\": 3}, \"marker\": {\"color\": \"red\", \"opacity\": 0.5, \"size\": 3}, \"name\": \"real 27\", \"opacity\": 0.5, \"type\": \"scatter3d\", \"x\": [31.771299362182607, 71.93669891357422, 116.4010009765625, 170.87899780273438, 261.5390014648437], \"y\": [-3.793040037155152, -7.908480167388916, -11.57229995727539, -14.73610019683838, -16.884199142456055], \"z\": [-3.4156301021575928, -3.8656299114227295, -4.315619945526123, -4.878119945526123, -5.400000095367432]}, {\"line\": {\"color\": \"red\", \"width\": 3}, \"marker\": {\"color\": \"red\", \"opacity\": 0.5, \"size\": 3}, \"name\": \"real 28\", \"opacity\": 0.5, \"type\": \"scatter3d\", \"x\": [31.27919960021973, 71.93589782714844, 116.39900207519531, 170.8800048828125, 261.5390014648437], \"y\": [-3.7246799468994136, -7.888360023498535, -11.552499771118164, -14.803199768066404, -16.884199142456055], \"z\": [1.6156200170516968, -0.09687419980764388, -1.896880030632019, -4.1905198097229, -7.800000190734862]}, {\"line\": {\"color\": \"red\", \"width\": 3}, \"marker\": {\"color\": \"red\", \"opacity\": 0.5, \"size\": 3}, \"name\": \"real 29\", \"opacity\": 0.5, \"type\": \"scatter3d\", \"x\": [31.605600357055664, 70.30940246582031, 114.2760009765625, 170.55099487304688, 262.10000610351557], \"y\": [6.3622498512268075, 13.64210033416748, 21.163700103759766, 29.43959999084473, 40.156700134277344], \"z\": [0.2955549955368042, -4.475769996643066, -9.887049674987793, -16.882299423217773, -28.20000076293945]}, {\"line\": {\"color\": \"red\", \"width\": 3}, \"marker\": {\"color\": \"red\", \"opacity\": 0.5, \"size\": 3}, \"name\": \"real 30\", \"opacity\": 0.5, \"type\": \"scatter3d\", \"x\": [31.89179992675781, 71.73930358886719, 115.80999755859376, 171.85800170898438, 264.9639892578125], \"y\": [-1.655949950218201, -3.191809892654419, -4.161459922790527, -4.418210029602051, -2.15733003616333], \"z\": [-6.1191301345825195, -12.581000328063965, -19.708999633789066, -28.78840065002441, -43.79999923706055]}, {\"line\": {\"color\": \"red\", \"width\": 3}, \"marker\": {\"color\": \"red\", \"opacity\": 0.5, \"size\": 3}, \"name\": \"real 31\", \"opacity\": 0.5, \"type\": \"scatter3d\", \"x\": [31.39859962463379, 71.24469757080078, 115.33100128173828, 171.41000366210938, 264.66500854492193], \"y\": [-1.6082099676132202, -3.2139201164245605, -4.3828701972961435, -4.911789894104004, -3.443010091781616], \"z\": [7.449580192565918, 14.316100120544435, 21.92259979248047, 31.642000198364247, 47.4000015258789]}, {\"line\": {\"color\": \"red\", \"width\": 3}, \"marker\": {\"color\": \"red\", \"opacity\": 0.5, \"size\": 3}, \"name\": \"real 32\", \"opacity\": 0.5, \"type\": \"scatter3d\", \"x\": [31.17849922180176, 71.62010192871094, 113.9469985961914, 168.78799438476562, 257.05300903320307], \"y\": [-5.510499954223633, -12.184800148010256, -18.60610008239746, -26.07029914855957, -36.1693000793457], \"z\": [7.128119945526122, 7.634369850158691, 8.196869850158691, 8.871879577636719, 10.199999809265137]}, {\"line\": {\"color\": \"red\", \"width\": 3}, \"marker\": {\"color\": \"red\", \"opacity\": 0.5, \"size\": 3}, \"name\": \"real 33\", \"opacity\": 0.5, \"type\": \"scatter3d\", \"x\": [31.48189926147461, 71.14299774169922, 115.6520004272461, 171.90699768066406, 262.74398803710943], \"y\": [-0.1315149962902069, -0.7829710245132446, -2.1796700954437256, -4.902750015258789, -11.702500343322756], \"z\": [7.1150898933410645, 1.9681299924850464, -3.789799928665161, -11.14780044555664, -23.399999618530273]}, {\"line\": {\"color\": \"red\", \"width\": 3}, \"marker\": {\"color\": \"red\", \"opacity\": 0.5, \"size\": 3}, \"name\": \"real 34\", \"opacity\": 0.5, \"type\": \"scatter3d\", \"x\": [31.66220092773437, 72.12159729003906, 114.45099639892578, 171.07699584960938, 257.89599609375], \"y\": [-5.726600170135497, -12.326499938964846, -18.41230010986328, -25.10689926147461, -32.54610061645508], \"z\": [0.6343730092048645, 0.07187269628047943, -0.4343760013580322, -1.278130054473877, -3.0]}, {\"line\": {\"color\": \"red\", \"width\": 3}, \"marker\": {\"color\": \"red\", \"opacity\": 0.5, \"size\": 3}, \"name\": \"real 35\", \"opacity\": 0.5, \"type\": \"scatter3d\", \"x\": [31.049699783325195, 69.68250274658203, 113.34100341796876, 169.01499938964844, 255.54600524902344], \"y\": [6.452310085296631, 14.12559986114502, 22.407400131225586, 32.28400039672852, 46.23030090332031], \"z\": [5.833889961242676, 11.084199905395508, 16.991500854492188, 24.5093994140625, 36.599998474121094]}, {\"line\": {\"color\": \"red\", \"width\": 3}, \"marker\": {\"color\": \"red\", \"opacity\": 0.5, \"size\": 3}, \"name\": \"real 36\", \"opacity\": 0.5, \"type\": \"scatter3d\", \"x\": [31.08550071716309, 69.49109649658203, 113.70899963378906, 168.28500366210938, 259.52899169921875], \"y\": [-7.158490180969237, -15.49549961090088, -24.368000030517567, -34.26060104370117, -48.10200119018555], \"z\": [5.103129863739014, 11.571900367736815, 18.991199493408203, 28.13759994506836, 43.79999923706055]}, {\"line\": {\"color\": \"red\", \"width\": 3}, \"marker\": {\"color\": \"red\", \"opacity\": 0.5, \"size\": 3}, \"name\": \"real 37\", \"opacity\": 0.5, \"type\": \"scatter3d\", \"x\": [31.36930084228516, 71.28610229492188, 115.43199920654295, 171.53900146484375, 264.58401489257807], \"y\": [-2.128350019454956, -4.2034897804260245, -5.651179790496826, -6.194960117340088, -3.7936398983001713], \"z\": [4.821879863739014, 5.271870136260986, 5.778130054473878, 6.340630054473878, 6.5999999046325675]}, {\"line\": {\"color\": \"red\", \"width\": 3}, \"marker\": {\"color\": \"red\", \"opacity\": 0.5, \"size\": 3}, \"name\": \"real 38\", \"opacity\": 0.5, \"type\": \"scatter3d\", \"x\": [265.65301513671875, 362.78399658203125, 501.6530151367188, 658.6069946289062, 822.8489990234375], \"y\": [0.8036260008811951, 3.087239980697632, -1.6022000312805176, -17.9867000579834, -47.7677001953125], \"z\": [-36.599998474121094, -57.4000015258789, -88.0, -122.8000030517578, -157.39999389648438]}, {\"line\": {\"color\": \"red\", \"width\": 3}, \"marker\": {\"color\": \"red\", \"opacity\": 0.5, \"size\": 3}, \"name\": \"real 39\", \"opacity\": 0.5, \"type\": \"scatter3d\", \"x\": [32.900501251220696, 72.32389831542969, 115.9250030517578, 171.67799377441406, 359.5220031738281], \"y\": [2.6588499546051025, 5.344170093536377, 7.57450008392334, 9.309579849243164, 5.305540084838867], \"z\": [-3.9781301021575928, -6.952079772949219, -10.109399795532227, -14.193400382995605, -28.20000076293945]}, {\"line\": {\"color\": \"blue\", \"width\": 3}, \"marker\": {\"color\": \"blue\", \"opacity\": 0.5, \"size\": 3}, \"name\": \"predict 0\", \"opacity\": 0.5, \"type\": \"scatter3d\", \"x\": [31.94099998474121, 71.65660095214844, 115.55500030517578, 171.3769989013672, 261.64536], \"y\": [-0.7839149832725525, -1.2155200242996216, -0.965728998184204, 0.390731006860733, 5.265324], \"z\": [0.12812399864196775, -4.934380054473877, -10.503100395202637, -17.590499877929688, -28.940487]}, {\"line\": {\"color\": \"blue\", \"width\": 3}, \"marker\": {\"color\": \"blue\", \"opacity\": 0.5, \"size\": 3}, \"name\": \"predict 1\", \"opacity\": 0.5, \"type\": \"scatter3d\", \"x\": [32.000999450683594, 71.07009887695312, 116.5009994506836, 172.0469970703125, 259.51517], \"y\": [0.28011301159858704, 0.958450973033905, 2.25465989112854, 4.523369789123535, 12.899219], \"z\": [0.7590109705924988, 8.131819725036621, 16.732900619506836, 27.25399971008301, 41.973083]}, {\"line\": {\"color\": \"blue\", \"width\": 3}, \"marker\": {\"color\": \"blue\", \"opacity\": 0.5, \"size\": 3}, \"name\": \"predict 2\", \"opacity\": 0.5, \"type\": \"scatter3d\", \"x\": [31.640899658203125, 70.41410064697266, 114.41400146484376, 171.09300231933594, 262.6397], \"y\": [-6.103600025177003, -12.786700248718262, -19.292999267578125, -25.940900802612305, -37.449670000000005], \"z\": [-2.151089906692505, -10.293100357055664, -19.582199096679688, -31.61969947814941, -48.208202]}, {\"line\": {\"color\": \"blue\", \"width\": 3}, \"marker\": {\"color\": \"blue\", \"opacity\": 0.5, \"size\": 3}, \"name\": \"predict 3\", \"opacity\": 0.5, \"type\": \"scatter3d\", \"x\": [32.392101287841804, 71.59239959716797, 114.99700164794922, 172.343994140625, 265.3442], \"y\": [4.112959861755371, 8.357359886169434, 12.144200325012207, 15.704099655151367, 20.49159], \"z\": [-3.6968801021575928, -10.584500312805176, -18.1658992767334, -28.153099060058594, -41.681328]}, {\"line\": {\"color\": \"blue\", \"width\": 3}, \"marker\": {\"color\": \"blue\", \"opacity\": 0.5, \"size\": 3}, \"name\": \"predict 4\", \"opacity\": 0.5, \"type\": \"scatter3d\", \"x\": [31.871400833129893, 71.7605972290039, 115.33699798583984, 171.30499267578125, 262.49576], \"y\": [-2.017119884490967, -3.701090097427368, -4.452960014343262, -3.8584499359130864, 1.9776028], \"z\": [-6.509379863739014, -0.8944630026817322, 5.172269821166992, 12.951600074768065, 25.192493]}, {\"line\": {\"color\": \"blue\", \"width\": 3}, \"marker\": {\"color\": \"blue\", \"opacity\": 0.5, \"size\": 3}, \"name\": \"predict 5\", \"opacity\": 0.5, \"type\": \"scatter3d\", \"x\": [32.10020065307617, 72.60890197753906, 116.2509994506836, 172.00900268554688, 263.15942], \"y\": [2.038180112838745, 4.170460224151611, 5.968989849090576, 7.4919800758361825, 10.353842], \"z\": [-1.221869945526123, -6.330540180206299, -11.77560043334961, -18.709999084472656, -29.269015999999997]}, {\"line\": {\"color\": \"blue\", \"width\": 3}, \"marker\": {\"color\": \"blue\", \"opacity\": 0.5, \"size\": 3}, \"name\": \"predict 6\", \"opacity\": 0.5, \"type\": \"scatter3d\", \"x\": [31.8439998626709, 70.71769714355469, 115.22699737548828, 169.90699768066406, 264.7896], \"y\": [5.680449962615968, 11.960000038146973, 18.306100845336914, 24.8356990814209, 36.028859999999995], \"z\": [-1.2172199487686155, -8.516209602355957, -16.84749984741211, -27.08329963684082, -40.89055]}, {\"line\": {\"color\": \"blue\", \"width\": 3}, \"marker\": {\"color\": \"blue\", \"opacity\": 0.5, \"size\": 3}, \"name\": \"predict 7\", \"opacity\": 0.5, \"type\": \"scatter3d\", \"x\": [31.395000457763672, 71.28130340576172, 115.5510025024414, 172.08200073242188, 262.87936], \"y\": [-1.6720399856567385, -4.0892300605773935, -7.136940002441406, -11.626299858093262, -18.970657], \"z\": [5.046879768371582, 5.778130054473878, 6.565619945526122, 7.634369850158691, 8.695669]}, {\"line\": {\"color\": \"blue\", \"width\": 3}, \"marker\": {\"color\": \"blue\", \"opacity\": 0.5, \"size\": 3}, \"name\": \"predict 8\", \"opacity\": 0.5, \"type\": \"scatter3d\", \"x\": [31.53400039672852, 69.77989959716797, 113.64600372314452, 168.21499633789062, 263.633], \"y\": [-8.000120162963867, -16.858400344848633, -25.89789962768555, -35.39099884033203, -50.377617], \"z\": [-5.947800159454348, 0.027191100642085075, 6.895199775695801, 15.37310028076172, 29.384141999999997]}, {\"line\": {\"color\": \"blue\", \"width\": 3}, \"marker\": {\"color\": \"blue\", \"opacity\": 0.5, \"size\": 3}, \"name\": \"predict 9\", \"opacity\": 0.5, \"type\": \"scatter3d\", \"x\": [32.73849868774414, 72.09130096435547, 115.61299896240234, 170.77499389648438, 262.40204], \"y\": [3.1220200061798096, 6.30226993560791, 9.10925006866455, 11.500699996948242, 16.384747], \"z\": [-3.1343801021575928, -1.503119945526123, 0.21137100458145144, 2.346869945526123, 6.029255]}, {\"line\": {\"color\": \"blue\", \"width\": 3}, \"marker\": {\"color\": \"blue\", \"opacity\": 0.5, \"size\": 3}, \"name\": \"predict 10\", \"opacity\": 0.5, \"type\": \"scatter3d\", \"x\": [32.459701538085945, 71.72039794921875, 115.16999816894531, 170.79600524902344, 264.7088], \"y\": [3.919440031051636, 7.8302001953125, 11.291999816894533, 14.145099639892578, 18.705544], \"z\": [-4.765629768371582, -9.53575038909912, -14.73169994354248, -21.528099060058594, -31.379091]}, {\"line\": {\"color\": \"blue\", \"width\": 3}, \"marker\": {\"color\": \"blue\", \"opacity\": 0.5, \"size\": 3}, \"name\": \"predict 11\", \"opacity\": 0.5, \"type\": \"scatter3d\", \"x\": [31.41830062866211, 71.2051010131836, 115.69000244140624, 171.61599731445312, 259.63205], \"y\": [-1.2588800191879272, -2.2674601078033447, -2.6598498821258545, -1.9989900588989256, 3.7509517999999997], \"z\": [3.921880006790161, 1.6718800067901611, -0.8843770027160645, -4.090630054473877, -9.437916]}, {\"line\": {\"color\": \"blue\", \"width\": 3}, \"marker\": {\"color\": \"blue\", \"opacity\": 0.5, \"size\": 3}, \"name\": \"predict 12\", \"opacity\": 0.5, \"type\": \"scatter3d\", \"x\": [31.25659942626953, 71.4894027709961, 114.13800048828124, 170.48399353027344, 257.37], \"y\": [-4.126420021057129, -9.060540199279783, -13.989299774169922, -19.980499267578125, -26.30694], \"z\": [7.552080154418945, 17.176399230957028, 27.35849952697754, 40.81579971313477, 60.836000000000006]}, {\"line\": {\"color\": \"blue\", \"width\": 3}, \"marker\": {\"color\": \"blue\", \"opacity\": 0.5, \"size\": 3}, \"name\": \"predict 13\", \"opacity\": 0.5, \"type\": \"scatter3d\", \"x\": [170.58399963378906, 262.68899536132807, 357.5719909667969, 494.4869995117188, 656.7121599999999], \"y\": [-25.225400924682607, -40.31880187988281, -56.972999572753906, -83.17900085449219, -125.90099], \"z\": [15.115599632263185, 29.399999618530273, 43.79999923706055, 65.19999694824219, 98.83628]}, {\"line\": {\"color\": \"blue\", \"width\": 3}, \"marker\": {\"color\": \"blue\", \"opacity\": 0.5, \"size\": 3}, \"name\": \"predict 14\", \"opacity\": 0.5, \"type\": \"scatter3d\", \"x\": [31.16659927368164, 69.93319702148439, 113.87999725341795, 169.08200073242188, 259.3944], \"y\": [-5.720719814300537, -12.65719985961914, -20.242599487304688, -29.367900848388672, -44.213608], \"z\": [4.653130054473877, 3.587559938430786, 2.403130054473877, 0.8593710064888, -1.4624208]}, {\"line\": {\"color\": \"blue\", \"width\": 3}, \"marker\": {\"color\": \"blue\", \"opacity\": 0.5, \"size\": 3}, \"name\": \"predict 15\", \"opacity\": 0.5, \"type\": \"scatter3d\", \"x\": [31.67480087280273, 72.09719848632812, 114.49299621582031, 171.0469970703125, 263.4394], \"y\": [-5.50314998626709, -11.744600296020508, -17.392999649047848, -23.523799896240234, -34.217316], \"z\": [-2.5503900051116943, -12.456299781799315, -22.638599395751953, -36.179500579833984, -55.221709999999995]}, {\"line\": {\"color\": \"blue\", \"width\": 3}, \"marker\": {\"color\": \"blue\", \"opacity\": 0.5, \"size\": 3}, \"name\": \"predict 16\", \"opacity\": 0.5, \"type\": \"scatter3d\", \"x\": [31.981300354003906, 71.58779907226562, 117.08200073242188, 172.48399353027344, 263.11136], \"y\": [-0.07021059840917587, 0.4290600121021271, 1.8804800510406487, 4.883649826049805, 13.6369915], \"z\": [0.5218729972839355, -0.7156260013580322, -2.121880054473877, -3.9781301021575928, -6.5522304]}, {\"line\": {\"color\": \"blue\", \"width\": 3}, \"marker\": {\"color\": \"blue\", \"opacity\": 0.5, \"size\": 3}, \"name\": \"predict 17\", \"opacity\": 0.5, \"type\": \"scatter3d\", \"x\": [31.88750076293945, 71.75540161132812, 115.88899993896484, 172.0590057373047, 264.22567999999995], \"y\": [-1.7319799661636353, -3.5772299766540527, -5.154510021209717, -6.4264397621154785, -8.723042999999999], \"z\": [-4.4165000915527335, -10.615400314331056, -17.455299377441403, -26.14060020446777, -39.794373]}, {\"line\": {\"color\": \"blue\", \"width\": 3}, \"marker\": {\"color\": \"blue\", \"opacity\": 0.5, \"size\": 3}, \"name\": \"predict 18\", \"opacity\": 0.5, \"type\": \"scatter3d\", \"x\": [31.5900993347168, 72.21929931640625, 115.91300201416016, 171.76100158691406, 257.89977999999996], \"y\": [1.7862800359725952, 3.676759958267212, 5.146279811859131, 6.089290142059326, 10.546421], \"z\": [3.786809921264648, 11.921099662780762, 20.5939998626709, 31.68180084228516, 47.507282000000004]}, {\"line\": {\"color\": \"blue\", \"width\": 3}, \"marker\": {\"color\": \"blue\", \"opacity\": 0.5, \"size\": 3}, \"name\": \"predict 19\", \"opacity\": 0.5, \"type\": \"scatter3d\", \"x\": [32.024200439453125, 71.56639862060547, 115.4469985961914, 171.5850067138672, 265.0269], \"y\": [0.6903240084648132, 0.9399710297584534, 0.38679298758506775, -1.6818900108337402, -8.86054], \"z\": [-3.6443700790405273, -13.378000259399414, -24.18560028076172, -37.97850036621094, -57.164390000000004]}, {\"line\": {\"color\": \"blue\", \"width\": 3}, \"marker\": {\"color\": \"blue\", \"opacity\": 0.5, \"size\": 3}, \"name\": \"predict 20\", \"opacity\": 0.5, \"type\": \"scatter3d\", \"x\": [32.083301544189446, 72.25900268554688, 115.9489974975586, 171.7550048828125, 261.31293], \"y\": [1.7386599779129028, 3.513159990310669, 4.9709200859069815, 6.126659870147705, 10.369067999999999], \"z\": [-2.5662000179290767, 4.329909801483153, 11.843299865722654, 21.42259979248047, 35.803375]}, {\"line\": {\"color\": \"blue\", \"width\": 3}, \"marker\": {\"color\": \"blue\", \"opacity\": 0.5, \"size\": 3}, \"name\": \"predict 21\", \"opacity\": 0.5, \"type\": \"scatter3d\", \"x\": [31.25200080871582, 71.47969818115234, 114.18199920654295, 170.42300415039062, 258.11917], \"y\": [-4.207920074462892, -8.829480171203613, -12.907099723815918, -16.822599411010742, -19.900783999999998], \"z\": [2.2709200382232666, 6.790629863739014, 11.628100395202635, 17.96470069885254, 27.99055]}, {\"line\": {\"color\": \"blue\", \"width\": 3}, \"marker\": {\"color\": \"blue\", \"opacity\": 0.5, \"size\": 3}, \"name\": \"predict 22\", \"opacity\": 0.5, \"type\": \"scatter3d\", \"x\": [30.920000076293945, 69.49770355224611, 113.0199966430664, 168.6580047607422, 255.01717000000002], \"y\": [6.823150157928468, 14.886899948120115, 23.37190055847168, 33.28730010986328, 49.82156], \"z\": [7.204780101776122, 16.486600875854492, 26.97130012512207, 40.35240173339844, 57.672054]}, {\"line\": {\"color\": \"blue\", \"width\": 3}, \"marker\": {\"color\": \"blue\", \"opacity\": 0.5, \"size\": 3}, \"name\": \"predict 23\", \"opacity\": 0.5, \"type\": \"scatter3d\", \"x\": [31.962200164794922, 71.13240051269531, 114.97699737548828, 172.51400756835938, 261.74615], \"y\": [-0.4079299867153168, -0.5302559733390808, 0.05030209943652153, 1.9619300365448, 9.762501], \"z\": [0.4656260013580322, 3.6968801021575928, 7.296870231628418, 12.064499855041506, 18.648483]}, {\"line\": {\"color\": \"blue\", \"width\": 3}, \"marker\": {\"color\": \"blue\", \"opacity\": 0.5, \"size\": 3}, \"name\": \"predict 24\", \"opacity\": 0.5, \"type\": \"scatter3d\", \"x\": [31.57279968261719, 69.99629974365234, 114.2310028076172, 168.88800048828125, 261.45105], \"y\": [-7.31151008605957, -15.468700408935547, -23.74150085449219, -32.513599395751946, -46.983948], \"z\": [0.4780769944190979, -4.315619945526123, -9.781970024108887, -16.465599060058597, -26.065176]}, {\"line\": {\"color\": \"blue\", \"width\": 3}, \"marker\": {\"color\": \"blue\", \"opacity\": 0.5, \"size\": 3}, \"name\": \"predict 25\", \"opacity\": 0.5, \"type\": \"scatter3d\", \"x\": [32.230499267578125, 71.68949890136719, 115.36599731445312, 171.26800537109375, 258.5461], \"y\": [3.0748300552368164, 5.8587398529052725, 7.841939926147461, 8.796239852905273, 11.520375999999999], \"z\": [6.602749824523926, 10.053099632263184, 13.760700225830078, 18.4906005859375, 26.047209]}, {\"line\": {\"color\": \"blue\", \"width\": 3}, \"marker\": {\"color\": \"blue\", \"opacity\": 0.5, \"size\": 3}, \"name\": \"predict 26\", \"opacity\": 0.5, \"type\": \"scatter3d\", \"x\": [31.233400344848643, 71.19090270996094, 112.80699920654295, 167.92799377441406, 264.45797999999996], \"y\": [7.427020072937013, 16.551799774169922, 25.579700469970703, 36.8213005065918, 54.051853], \"z\": [-7.0031700134277335, -16.706499099731445, -26.756999969482425, -40.03160095214844, -56.525574]}, {\"line\": {\"color\": \"blue\", \"width\": 3}, \"marker\": {\"color\": \"blue\", \"opacity\": 0.5, \"size\": 3}, \"name\": \"predict 27\", \"opacity\": 0.5, \"type\": \"scatter3d\", \"x\": [31.771299362182607, 71.93669891357422, 116.4010009765625, 170.87899780273438, 262.4397], \"y\": [-3.793040037155152, -7.908480167388916, -11.57229995727539, -14.73610019683838, -18.632174], \"z\": [-3.4156301021575928, -3.8656299114227295, -4.315619945526123, -4.878119945526123, -5.8751354000000005]}, {\"line\": {\"color\": \"blue\", \"width\": 3}, \"marker\": {\"color\": \"blue\", \"opacity\": 0.5, \"size\": 3}, \"name\": \"predict 28\", \"opacity\": 0.5, \"type\": \"scatter3d\", \"x\": [31.27919960021973, 71.93589782714844, 116.39900207519531, 170.8800048828125, 261.38452], \"y\": [-3.7246799468994136, -7.888360023498535, -11.552499771118164, -14.803199768066404, -18.272876999999998], \"z\": [1.6156200170516968, -0.09687419980764388, -1.896880030632019, -4.1905198097229, -8.0395565]}, {\"line\": {\"color\": \"blue\", \"width\": 3}, \"marker\": {\"color\": \"blue\", \"opacity\": 0.5, \"size\": 3}, \"name\": \"predict 29\", \"opacity\": 0.5, \"type\": \"scatter3d\", \"x\": [31.605600357055664, 70.30940246582031, 114.2760009765625, 170.55099487304688, 259.70117], \"y\": [6.3622498512268075, 13.64210033416748, 21.163700103759766, 29.43959999084473, 43.735657], \"z\": [0.2955549955368042, -4.475769996643066, -9.887049674987793, -16.882299423217773, -25.375452]}, {\"line\": {\"color\": \"blue\", \"width\": 3}, \"marker\": {\"color\": \"blue\", \"opacity\": 0.5, \"size\": 3}, \"name\": \"predict 30\", \"opacity\": 0.5, \"type\": \"scatter3d\", \"x\": [31.89179992675781, 71.73930358886719, 115.80999755859376, 171.85800170898438, 264.5297], \"y\": [-1.655949950218201, -3.191809892654419, -4.161459922790527, -4.418210029602051, -4.435855999999999], \"z\": [-6.1191301345825195, -12.581000328063965, -19.708999633789066, -28.78840065002441, -42.58234]}, {\"line\": {\"color\": \"blue\", \"width\": 3}, \"marker\": {\"color\": \"blue\", \"opacity\": 0.5, \"size\": 3}, \"name\": \"predict 31\", \"opacity\": 0.5, \"type\": \"scatter3d\", \"x\": [31.39859962463379, 71.24469757080078, 115.33100128173828, 171.41000366210938, 257.69672], \"y\": [-1.6082099676132202, -3.2139201164245605, -4.3828701972961435, -4.911789894104004, -0.5343861999999999], \"z\": [7.449580192565918, 14.316100120544435, 21.92259979248047, 31.642000198364247, 45.70684]}, {\"line\": {\"color\": \"blue\", \"width\": 3}, \"marker\": {\"color\": \"blue\", \"opacity\": 0.5, \"size\": 3}, \"name\": \"predict 32\", \"opacity\": 0.5, \"type\": \"scatter3d\", \"x\": [31.17849922180176, 71.62010192871094, 113.9469985961914, 168.78799438476562, 260.53415], \"y\": [-5.510499954223633, -12.184800148010256, -18.60610008239746, -26.07029914855957, -37.8074], \"z\": [7.128119945526122, 7.634369850158691, 8.196869850158691, 8.871879577636719, 9.413324000000001]}, {\"line\": {\"color\": \"blue\", \"width\": 3}, \"marker\": {\"color\": \"blue\", \"opacity\": 0.5, \"size\": 3}, \"name\": \"predict 33\", \"opacity\": 0.5, \"type\": \"scatter3d\", \"x\": [31.48189926147461, 71.14299774169922, 115.6520004272461, 171.90699768066406, 261.58246], \"y\": [-0.1315149962902069, -0.7829710245132446, -2.1796700954437256, -4.902750015258789, -10.221513], \"z\": [7.1150898933410645, 1.9681299924850464, -3.789799928665161, -11.14780044555664, -22.827328]}, {\"line\": {\"color\": \"blue\", \"width\": 3}, \"marker\": {\"color\": \"blue\", \"opacity\": 0.5, \"size\": 3}, \"name\": \"predict 34\", \"opacity\": 0.5, \"type\": \"scatter3d\", \"x\": [31.66220092773437, 72.12159729003906, 114.45099639892578, 171.07699584960938, 262.46744], \"y\": [-5.726600170135497, -12.326499938964846, -18.41230010986328, -25.10689926147461, -35.666134], \"z\": [0.6343730092048645, 0.07187269628047943, -0.4343760013580322, -1.278130054473877, -2.8349444999999998]}, {\"line\": {\"color\": \"blue\", \"width\": 3}, \"marker\": {\"color\": \"blue\", \"opacity\": 0.5, \"size\": 3}, \"name\": \"predict 35\", \"opacity\": 0.5, \"type\": \"scatter3d\", \"x\": [31.049699783325195, 69.68250274658203, 113.34100341796876, 169.01499938964844, 254.91629], \"y\": [6.452310085296631, 14.12559986114502, 22.407400131225586, 32.28400039672852, 47.93244], \"z\": [5.833889961242676, 11.084199905395508, 16.991500854492188, 24.5093994140625, 34.8674]}, {\"line\": {\"color\": \"blue\", \"width\": 3}, \"marker\": {\"color\": \"blue\", \"opacity\": 0.5, \"size\": 3}, \"name\": \"predict 36\", \"opacity\": 0.5, \"type\": \"scatter3d\", \"x\": [31.08550071716309, 69.49109649658203, 113.70899963378906, 168.28500366210938, 259.5403], \"y\": [-7.158490180969237, -15.49549961090088, -24.368000030517567, -34.26060104370117, -48.83913], \"z\": [5.103129863739014, 11.571900367736815, 18.991199493408203, 28.13759994506836, 42.87643]}, {\"line\": {\"color\": \"blue\", \"width\": 3}, \"marker\": {\"color\": \"blue\", \"opacity\": 0.5, \"size\": 3}, \"name\": \"predict 37\", \"opacity\": 0.5, \"type\": \"scatter3d\", \"x\": [31.36930084228516, 71.28610229492188, 115.43199920654295, 171.53900146484375, 262.5994], \"y\": [-2.128350019454956, -4.2034897804260245, -5.651179790496826, -6.194960117340088, -2.0246939999999998], \"z\": [4.821879863739014, 5.271870136260986, 5.778130054473878, 6.340630054473878, 6.14317]}, {\"line\": {\"color\": \"blue\", \"width\": 3}, \"marker\": {\"color\": \"blue\", \"opacity\": 0.5, \"size\": 3}, \"name\": \"predict 38\", \"opacity\": 0.5, \"type\": \"scatter3d\", \"x\": [265.65301513671875, 362.78399658203125, 501.6530151367188, 658.6069946289062, 901.678], \"y\": [0.8036260008811951, 3.087239980697632, -1.6022000312805176, -17.9867000579834, -60.270934999999994], \"z\": [-36.599998474121094, -57.4000015258789, -88.0, -122.8000030517578, -139.60616000000002]}, {\"line\": {\"color\": \"blue\", \"width\": 3}, \"marker\": {\"color\": \"blue\", \"opacity\": 0.5, \"size\": 3}, \"name\": \"predict 39\", \"opacity\": 0.5, \"type\": \"scatter3d\", \"x\": [32.900501251220696, 72.32389831542969, 115.9250030517578, 171.67799377441406, 263.41107], \"y\": [2.6588499546051025, 5.344170093536377, 7.57450008392334, 9.309579849243164, 12.190986], \"z\": [-3.9781301021575928, -6.952079772949219, -10.109399795532227, -14.193400382995605, -19.867217999999998]}],\n",
              "                        {\"autosize\": true, \"scene\": {\"aspectmode\": \"manual\", \"aspectratio\": {\"x\": 1, \"y\": 1, \"z\": 1}, \"camera\": {\"eye\": {\"x\": -1.7428, \"y\": 1.0707, \"z\": 0.71}, \"up\": {\"x\": 1, \"y\": 1, \"z\": -0.5}}, \"xaxis\": {\"backgroundcolor\": \"rgb(230, 230,230)\", \"gridcolor\": \"rgb(255, 255, 255)\", \"showbackground\": true, \"title\": {\"text\": \"x (mm)\"}, \"zerolinecolor\": \"rgb(255, 255, 255)\"}, \"yaxis\": {\"backgroundcolor\": \"rgb(230, 230,230)\", \"gridcolor\": \"rgb(255, 255, 255)\", \"showbackground\": true, \"title\": {\"text\": \"y (mm)\"}, \"zerolinecolor\": \"rgb(255, 255, 255)\"}, \"zaxis\": {\"backgroundcolor\": \"rgb(230, 230,230)\", \"gridcolor\": \"rgb(255, 255, 255)\", \"showbackground\": true, \"title\": {\"text\": \"z (mm)\"}, \"zerolinecolor\": \"rgb(255, 255, 255)\"}}, \"template\": {\"data\": {\"bar\": [{\"error_x\": {\"color\": \"#2a3f5f\"}, \"error_y\": {\"color\": \"#2a3f5f\"}, \"marker\": {\"line\": {\"color\": \"#E5ECF6\", \"width\": 0.5}}, \"type\": \"bar\"}], \"barpolar\": [{\"marker\": {\"line\": {\"color\": \"#E5ECF6\", \"width\": 0.5}}, \"type\": \"barpolar\"}], \"carpet\": [{\"aaxis\": {\"endlinecolor\": \"#2a3f5f\", \"gridcolor\": \"white\", \"linecolor\": \"white\", \"minorgridcolor\": \"white\", \"startlinecolor\": \"#2a3f5f\"}, \"baxis\": {\"endlinecolor\": \"#2a3f5f\", \"gridcolor\": \"white\", \"linecolor\": \"white\", \"minorgridcolor\": \"white\", \"startlinecolor\": \"#2a3f5f\"}, \"type\": \"carpet\"}], \"choropleth\": [{\"colorbar\": {\"outlinewidth\": 0, \"ticks\": \"\"}, \"type\": \"choropleth\"}], \"contour\": [{\"colorbar\": {\"outlinewidth\": 0, \"ticks\": \"\"}, \"colorscale\": [[0.0, \"#0d0887\"], [0.1111111111111111, \"#46039f\"], [0.2222222222222222, \"#7201a8\"], [0.3333333333333333, \"#9c179e\"], [0.4444444444444444, \"#bd3786\"], [0.5555555555555556, \"#d8576b\"], [0.6666666666666666, \"#ed7953\"], [0.7777777777777778, \"#fb9f3a\"], [0.8888888888888888, \"#fdca26\"], [1.0, \"#f0f921\"]], \"type\": \"contour\"}], \"contourcarpet\": [{\"colorbar\": {\"outlinewidth\": 0, \"ticks\": \"\"}, \"type\": \"contourcarpet\"}], \"heatmap\": [{\"colorbar\": {\"outlinewidth\": 0, \"ticks\": \"\"}, \"colorscale\": [[0.0, \"#0d0887\"], [0.1111111111111111, \"#46039f\"], [0.2222222222222222, \"#7201a8\"], [0.3333333333333333, \"#9c179e\"], [0.4444444444444444, \"#bd3786\"], [0.5555555555555556, \"#d8576b\"], [0.6666666666666666, \"#ed7953\"], [0.7777777777777778, \"#fb9f3a\"], [0.8888888888888888, \"#fdca26\"], [1.0, \"#f0f921\"]], \"type\": \"heatmap\"}], \"heatmapgl\": [{\"colorbar\": {\"outlinewidth\": 0, \"ticks\": \"\"}, \"colorscale\": [[0.0, \"#0d0887\"], [0.1111111111111111, \"#46039f\"], [0.2222222222222222, \"#7201a8\"], [0.3333333333333333, \"#9c179e\"], [0.4444444444444444, \"#bd3786\"], [0.5555555555555556, \"#d8576b\"], [0.6666666666666666, \"#ed7953\"], [0.7777777777777778, \"#fb9f3a\"], [0.8888888888888888, \"#fdca26\"], [1.0, \"#f0f921\"]], \"type\": \"heatmapgl\"}], \"histogram\": [{\"marker\": {\"colorbar\": {\"outlinewidth\": 0, \"ticks\": \"\"}}, \"type\": \"histogram\"}], \"histogram2d\": [{\"colorbar\": {\"outlinewidth\": 0, \"ticks\": \"\"}, \"colorscale\": [[0.0, \"#0d0887\"], [0.1111111111111111, \"#46039f\"], [0.2222222222222222, \"#7201a8\"], [0.3333333333333333, \"#9c179e\"], [0.4444444444444444, \"#bd3786\"], [0.5555555555555556, \"#d8576b\"], [0.6666666666666666, \"#ed7953\"], [0.7777777777777778, \"#fb9f3a\"], [0.8888888888888888, \"#fdca26\"], [1.0, \"#f0f921\"]], \"type\": \"histogram2d\"}], \"histogram2dcontour\": [{\"colorbar\": {\"outlinewidth\": 0, \"ticks\": \"\"}, \"colorscale\": [[0.0, \"#0d0887\"], [0.1111111111111111, \"#46039f\"], [0.2222222222222222, \"#7201a8\"], [0.3333333333333333, \"#9c179e\"], [0.4444444444444444, \"#bd3786\"], [0.5555555555555556, \"#d8576b\"], [0.6666666666666666, \"#ed7953\"], [0.7777777777777778, \"#fb9f3a\"], [0.8888888888888888, \"#fdca26\"], [1.0, \"#f0f921\"]], \"type\": \"histogram2dcontour\"}], \"mesh3d\": [{\"colorbar\": {\"outlinewidth\": 0, \"ticks\": \"\"}, \"type\": \"mesh3d\"}], \"parcoords\": [{\"line\": {\"colorbar\": {\"outlinewidth\": 0, \"ticks\": \"\"}}, \"type\": \"parcoords\"}], \"pie\": [{\"automargin\": true, \"type\": \"pie\"}], \"scatter\": [{\"marker\": {\"colorbar\": {\"outlinewidth\": 0, \"ticks\": \"\"}}, \"type\": \"scatter\"}], \"scatter3d\": [{\"line\": {\"colorbar\": {\"outlinewidth\": 0, \"ticks\": \"\"}}, \"marker\": {\"colorbar\": {\"outlinewidth\": 0, \"ticks\": \"\"}}, \"type\": \"scatter3d\"}], \"scattercarpet\": [{\"marker\": {\"colorbar\": {\"outlinewidth\": 0, \"ticks\": \"\"}}, \"type\": \"scattercarpet\"}], \"scattergeo\": [{\"marker\": {\"colorbar\": {\"outlinewidth\": 0, \"ticks\": \"\"}}, \"type\": \"scattergeo\"}], \"scattergl\": [{\"marker\": {\"colorbar\": {\"outlinewidth\": 0, \"ticks\": \"\"}}, \"type\": \"scattergl\"}], \"scattermapbox\": [{\"marker\": {\"colorbar\": {\"outlinewidth\": 0, \"ticks\": \"\"}}, \"type\": \"scattermapbox\"}], \"scatterpolar\": [{\"marker\": {\"colorbar\": {\"outlinewidth\": 0, \"ticks\": \"\"}}, \"type\": \"scatterpolar\"}], \"scatterpolargl\": [{\"marker\": {\"colorbar\": {\"outlinewidth\": 0, \"ticks\": \"\"}}, \"type\": \"scatterpolargl\"}], \"scatterternary\": [{\"marker\": {\"colorbar\": {\"outlinewidth\": 0, \"ticks\": \"\"}}, \"type\": \"scatterternary\"}], \"surface\": [{\"colorbar\": {\"outlinewidth\": 0, \"ticks\": \"\"}, \"colorscale\": [[0.0, \"#0d0887\"], [0.1111111111111111, \"#46039f\"], [0.2222222222222222, \"#7201a8\"], [0.3333333333333333, \"#9c179e\"], [0.4444444444444444, \"#bd3786\"], [0.5555555555555556, \"#d8576b\"], [0.6666666666666666, \"#ed7953\"], [0.7777777777777778, \"#fb9f3a\"], [0.8888888888888888, \"#fdca26\"], [1.0, \"#f0f921\"]], \"type\": \"surface\"}], \"table\": [{\"cells\": {\"fill\": {\"color\": \"#EBF0F8\"}, \"line\": {\"color\": \"white\"}}, \"header\": {\"fill\": {\"color\": \"#C8D4E3\"}, \"line\": {\"color\": \"white\"}}, \"type\": \"table\"}]}, \"layout\": {\"annotationdefaults\": {\"arrowcolor\": \"#2a3f5f\", \"arrowhead\": 0, \"arrowwidth\": 1}, \"coloraxis\": {\"colorbar\": {\"outlinewidth\": 0, \"ticks\": \"\"}}, \"colorscale\": {\"diverging\": [[0, \"#8e0152\"], [0.1, \"#c51b7d\"], [0.2, \"#de77ae\"], [0.3, \"#f1b6da\"], [0.4, \"#fde0ef\"], [0.5, \"#f7f7f7\"], [0.6, \"#e6f5d0\"], [0.7, \"#b8e186\"], [0.8, \"#7fbc41\"], [0.9, \"#4d9221\"], [1, \"#276419\"]], \"sequential\": [[0.0, \"#0d0887\"], [0.1111111111111111, \"#46039f\"], [0.2222222222222222, \"#7201a8\"], [0.3333333333333333, \"#9c179e\"], [0.4444444444444444, \"#bd3786\"], [0.5555555555555556, \"#d8576b\"], [0.6666666666666666, \"#ed7953\"], [0.7777777777777778, \"#fb9f3a\"], [0.8888888888888888, \"#fdca26\"], [1.0, \"#f0f921\"]], \"sequentialminus\": [[0.0, \"#0d0887\"], [0.1111111111111111, \"#46039f\"], [0.2222222222222222, \"#7201a8\"], [0.3333333333333333, \"#9c179e\"], [0.4444444444444444, \"#bd3786\"], [0.5555555555555556, \"#d8576b\"], [0.6666666666666666, \"#ed7953\"], [0.7777777777777778, \"#fb9f3a\"], [0.8888888888888888, \"#fdca26\"], [1.0, \"#f0f921\"]]}, \"colorway\": [\"#636efa\", \"#EF553B\", \"#00cc96\", \"#ab63fa\", \"#FFA15A\", \"#19d3f3\", \"#FF6692\", \"#B6E880\", \"#FF97FF\", \"#FECB52\"], \"font\": {\"color\": \"#2a3f5f\"}, \"geo\": {\"bgcolor\": \"white\", \"lakecolor\": \"white\", \"landcolor\": \"#E5ECF6\", \"showlakes\": true, \"showland\": true, \"subunitcolor\": \"white\"}, \"hoverlabel\": {\"align\": \"left\"}, \"hovermode\": \"closest\", \"mapbox\": {\"style\": \"light\"}, \"paper_bgcolor\": \"white\", \"plot_bgcolor\": \"#E5ECF6\", \"polar\": {\"angularaxis\": {\"gridcolor\": \"white\", \"linecolor\": \"white\", \"ticks\": \"\"}, \"bgcolor\": \"#E5ECF6\", \"radialaxis\": {\"gridcolor\": \"white\", \"linecolor\": \"white\", \"ticks\": \"\"}}, \"scene\": {\"xaxis\": {\"backgroundcolor\": \"#E5ECF6\", \"gridcolor\": \"white\", \"gridwidth\": 2, \"linecolor\": \"white\", \"showbackground\": true, \"ticks\": \"\", \"zerolinecolor\": \"white\"}, \"yaxis\": {\"backgroundcolor\": \"#E5ECF6\", \"gridcolor\": \"white\", \"gridwidth\": 2, \"linecolor\": \"white\", \"showbackground\": true, \"ticks\": \"\", \"zerolinecolor\": \"white\"}, \"zaxis\": {\"backgroundcolor\": \"#E5ECF6\", \"gridcolor\": \"white\", \"gridwidth\": 2, \"linecolor\": \"white\", \"showbackground\": true, \"ticks\": \"\", \"zerolinecolor\": \"white\"}}, \"shapedefaults\": {\"line\": {\"color\": \"#2a3f5f\"}}, \"ternary\": {\"aaxis\": {\"gridcolor\": \"white\", \"linecolor\": \"white\", \"ticks\": \"\"}, \"baxis\": {\"gridcolor\": \"white\", \"linecolor\": \"white\", \"ticks\": \"\"}, \"bgcolor\": \"#E5ECF6\", \"caxis\": {\"gridcolor\": \"white\", \"linecolor\": \"white\", \"ticks\": \"\"}}, \"title\": {\"x\": 0.05}, \"xaxis\": {\"automargin\": true, \"gridcolor\": \"white\", \"linecolor\": \"white\", \"ticks\": \"\", \"title\": {\"standoff\": 15}, \"zerolinecolor\": \"white\", \"zerolinewidth\": 2}, \"yaxis\": {\"automargin\": true, \"gridcolor\": \"white\", \"linecolor\": \"white\", \"ticks\": \"\", \"title\": {\"standoff\": 15}, \"zerolinecolor\": \"white\", \"zerolinewidth\": 2}}}, \"title\": {\"text\": \"Track Prediction #5 Hit\"}},\n",
              "                        {\"responsive\": true}\n",
              "                    ).then(function(){\n",
              "                            \n",
              "var gd = document.getElementById('891d913f-7f12-4531-8bba-58cec0e1f4c5');\n",
              "var x = new MutationObserver(function (mutations, observer) {{\n",
              "        var display = window.getComputedStyle(gd).display;\n",
              "        if (!display || display === 'none') {{\n",
              "            console.log([gd, 'removed!']);\n",
              "            Plotly.purge(gd);\n",
              "            observer.disconnect();\n",
              "        }}\n",
              "}});\n",
              "\n",
              "// Listen for the removal of the full notebook cells\n",
              "var notebookContainer = gd.closest('#notebook-container');\n",
              "if (notebookContainer) {{\n",
              "    x.observe(notebookContainer, {childList: true});\n",
              "}}\n",
              "\n",
              "// Listen for the clearing of the current output cell\n",
              "var outputEl = gd.closest('.output');\n",
              "if (outputEl) {{\n",
              "    x.observe(outputEl, {childList: true});\n",
              "}}\n",
              "\n",
              "                        })\n",
              "                };\n",
              "                \n",
              "            </script>\n",
              "        </div>\n",
              "</body>\n",
              "</html>"
            ]
          },
          "metadata": {
            "tags": []
          }
        }
      ]
    }
  ]
}