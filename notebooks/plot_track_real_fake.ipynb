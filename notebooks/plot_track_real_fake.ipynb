{
 "cells": [
  {
   "cell_type": "code",
   "execution_count": 1,
   "metadata": {},
   "outputs": [
    {
     "ename": "ImportError",
     "evalue": "\nThe plotly.plotly module is deprecated,\nplease install the chart-studio package and use the\nchart_studio.plotly module instead. \n",
     "output_type": "error",
     "traceback": [
      "\u001b[0;31m---------------------------------------------------------------------------\u001b[0m",
      "\u001b[0;31mImportError\u001b[0m                               Traceback (most recent call last)",
      "\u001b[0;32m<ipython-input-1-80e84a8e541e>\u001b[0m in \u001b[0;36m<module>\u001b[0;34m\u001b[0m\n\u001b[1;32m      6\u001b[0m \u001b[0;32mimport\u001b[0m \u001b[0mmatplotlib\u001b[0m\u001b[0;34m.\u001b[0m\u001b[0mpyplot\u001b[0m \u001b[0;32mas\u001b[0m \u001b[0mplt\u001b[0m\u001b[0;34m\u001b[0m\u001b[0;34m\u001b[0m\u001b[0m\n\u001b[1;32m      7\u001b[0m \u001b[0;32mimport\u001b[0m \u001b[0mplotly\u001b[0m\u001b[0;34m\u001b[0m\u001b[0;34m\u001b[0m\u001b[0m\n\u001b[0;32m----> 8\u001b[0;31m \u001b[0;32mimport\u001b[0m \u001b[0mplotly\u001b[0m\u001b[0;34m.\u001b[0m\u001b[0mplotly\u001b[0m \u001b[0;32mas\u001b[0m \u001b[0mpy\u001b[0m\u001b[0;34m\u001b[0m\u001b[0;34m\u001b[0m\u001b[0m\n\u001b[0m\u001b[1;32m      9\u001b[0m \u001b[0;32mimport\u001b[0m \u001b[0mplotly\u001b[0m\u001b[0;34m.\u001b[0m\u001b[0mgraph_objs\u001b[0m \u001b[0;32mas\u001b[0m \u001b[0mgo\u001b[0m\u001b[0;34m\u001b[0m\u001b[0;34m\u001b[0m\u001b[0m\n\u001b[1;32m     10\u001b[0m \u001b[0;32mimport\u001b[0m \u001b[0mplotly\u001b[0m\u001b[0;34m.\u001b[0m\u001b[0mio\u001b[0m \u001b[0;32mas\u001b[0m \u001b[0mpio\u001b[0m\u001b[0;34m\u001b[0m\u001b[0;34m\u001b[0m\u001b[0m\n",
      "\u001b[0;32m~/miniconda2/envs/trackml/lib/python3.7/site-packages/plotly/plotly/__init__.py\u001b[0m in \u001b[0;36m<module>\u001b[0;34m\u001b[0m\n\u001b[1;32m      2\u001b[0m \u001b[0;32mfrom\u001b[0m \u001b[0m_plotly_future_\u001b[0m \u001b[0;32mimport\u001b[0m \u001b[0m_chart_studio_error\u001b[0m\u001b[0;34m\u001b[0m\u001b[0;34m\u001b[0m\u001b[0m\n\u001b[1;32m      3\u001b[0m \u001b[0;34m\u001b[0m\u001b[0m\n\u001b[0;32m----> 4\u001b[0;31m \u001b[0m_chart_studio_error\u001b[0m\u001b[0;34m(\u001b[0m\u001b[0;34m\"plotly\"\u001b[0m\u001b[0;34m)\u001b[0m\u001b[0;34m\u001b[0m\u001b[0;34m\u001b[0m\u001b[0m\n\u001b[0m",
      "\u001b[0;32m~/miniconda2/envs/trackml/lib/python3.7/site-packages/_plotly_future_/__init__.py\u001b[0m in \u001b[0;36m_chart_studio_error\u001b[0;34m(submodule)\u001b[0m\n\u001b[1;32m     47\u001b[0m \u001b[0mchart_studio\u001b[0m\u001b[0;34m.\u001b[0m\u001b[0;34m{\u001b[0m\u001b[0msubmodule\u001b[0m\u001b[0;34m}\u001b[0m \u001b[0mmodule\u001b[0m \u001b[0minstead\u001b[0m\u001b[0;34m.\u001b[0m\u001b[0;34m\u001b[0m\u001b[0;34m\u001b[0m\u001b[0m\n\u001b[1;32m     48\u001b[0m \"\"\".format(\n\u001b[0;32m---> 49\u001b[0;31m             \u001b[0msubmodule\u001b[0m\u001b[0;34m=\u001b[0m\u001b[0msubmodule\u001b[0m\u001b[0;34m\u001b[0m\u001b[0;34m\u001b[0m\u001b[0m\n\u001b[0m\u001b[1;32m     50\u001b[0m         )\n\u001b[1;32m     51\u001b[0m     )\n",
      "\u001b[0;31mImportError\u001b[0m: \nThe plotly.plotly module is deprecated,\nplease install the chart-studio package and use the\nchart_studio.plotly module instead. \n"
     ]
    }
   ],
   "source": [
    "import sys\n",
    "import os\n",
    "import numpy as np\n",
    "import pandas as pd\n",
    "from scipy.special import erf\n",
    "import matplotlib.pyplot as plt\n",
    "import plotly \n",
    "import plotly.plotly as py\n",
    "import plotly.graph_objs as go\n",
    "import plotly.io as pio\n",
    "from plotly.offline import iplot, init_notebook_mode\n",
    "plotly .tools.set_credentials_file(username = 'fialhocoelho',\\\n",
    "                                   api_key  = 'XShJogIgb2Yjyd5MpwyT')\n",
    "\n",
    "# PARAMETERS\n",
    "input_path  = '/data/track-ml/input/TrackFakeReal.csv'\n",
    "output_path = '/data/track-ml/output/'\n",
    "\n",
    "# Open the input file as a DF\n",
    "df = pd.read_csv(input_path)"
   ]
  },
  {
   "cell_type": "code",
   "execution_count": 2,
   "metadata": {
    "scrolled": false
   },
   "outputs": [
    {
     "data": {
      "image/png": "[encoded data removed]",
      "text/plain": [
       "<Figure size 432x288 with 1 Axes>"
      ]
     },
     "metadata": {
      "needs_background": "light"
     },
     "output_type": "display_data"
    }
   ],
   "source": [
    "from scipy import special\n",
    "import matplotlib.pyplot as plt\n",
    "import random\n",
    "\n",
    "'''\n",
    "start_err   = 0.5\n",
    "end_err     = 4\n",
    "len_err     = 50\n",
    "input_array = np.linspace(start_err, \n",
    "                          end_err, len_err)\n",
    "err_array   = special.erf(input_array)\n",
    "'''\n",
    "def peteleco(position, err, len_err = 50):\n",
    "\n",
    "    err_array = np.linspace(1 - err, 1 + err, len_err)\n",
    "    value_err = position * random.choice(err_array)\n",
    "    \n",
    "    return value_err\n",
    "\n",
    "\n",
    "\n",
    "#print(input_array)\n",
    "x = []\n",
    "k = 100\n",
    "for i in range(k): \n",
    "    value = peteleco(i, 0.03, 100)\n",
    "    #print(str(i) + ': ' + str(value))\n",
    "    x.append(value)\n",
    "\n",
    "plt.plot(range(k),x)\n",
    "plt.plot(range(k),range(k))\n",
    "\n",
    "plt.show()\n"
   ]
  },
  {
   "cell_type": "code",
   "execution_count": 3,
   "metadata": {},
   "outputs": [
    {
     "name": "stdout",
     "output_type": "stream",
     "text": [
      "Shape of df_hits:    (16860, 120)\n",
      "Shape of df_is_real: (16860,)\n"
     ]
    }
   ],
   "source": [
    "# Creating a DF with hits data\n",
    "df_hits = df.iloc[:,1:-1]\n",
    "print('Shape of df_hits:    ' + str(df_hits.shape))\n",
    "\n",
    "# Creating a DF with true of fake info\n",
    "df_is_real = df.iloc[:,-1]\n",
    "print('Shape of df_is_real: ' + str(df_is_real.shape))"
   ]
  },
  {
   "cell_type": "code",
   "execution_count": 4,
   "metadata": {},
   "outputs": [
    {
     "name": "stdout",
     "output_type": "stream",
     "text": [
      "selected_columns xyz of df_hits:\n",
      "\n",
      "[  0.   1.   2.   6.   7.   8.  12.  13.  14.  18.  19.  20.  24.  25.\n",
      "  26.  30.  31.  32.  36.  37.  38.  42.  43.  44.  48.  49.  50.  54.\n",
      "  55.  56.  60.  61.  62.  66.  67.  68.  72.  73.  74.  78.  79.  80.\n",
      "  84.  85.  86.  90.  91.  92.  96.  97.  98. 102. 103. 104. 108. 109.\n",
      " 110. 114. 115. 116.]\n",
      "\n",
      " len of selected_columns: 60\n"
     ]
    }
   ],
   "source": [
    "# particles 6 fields\n",
    "# hit id 6 fields x 19 -> maximum amount of hits = 114\n",
    "# 1 - output => 0 real 1 fake\n",
    "\n",
    "# Initializing DF for x,y,z values\n",
    "xyz_dim = (df_hits.shape[0], int(df_hits.shape[1]/2))\n",
    "df_hits_xyz_2d = pd.DataFrame(np.zeros(xyz_dim))\n",
    "\n",
    "# Initializing list of indexes\n",
    "selected_columns = np.zeros(int(df_hits.shape[1]/2))\n",
    "\n",
    "# Generating indexes\n",
    "for i in range(int(df_hits_xyz_2d.shape[1]/3)):\n",
    "    selected_columns[3*i:3*i+3] = list(range(6*i, 6*i+3))\n",
    "\n",
    "print('selected_columns xyz of df_hits:\\n\\n' + str(selected_columns) + \\\n",
    "      '\\n\\n len of selected_columns: ' + str(len(selected_columns)))\n",
    "\n",
    "# Geting a single DF with x,y,z values from df_hits[indexes]\n",
    "df_hits_xyz_2d = df_hits.iloc[:,selected_columns]\n",
    "\n",
    "# Generating HDF5 file from DF\n",
    "#df_hits_xyz_2d.to_hdf(output_path + 'df_hits_xyz_2d.h5', key = 'df', mode = 'w')"
   ]
  },
  {
   "cell_type": "code",
   "execution_count": 5,
   "metadata": {},
   "outputs": [
    {
     "name": "stdout",
     "output_type": "stream",
     "text": [
      "selected_columns of x values from df_hits:\n",
      "[ 0.  3.  6.  9. 12. 15. 18. 21. 24. 27. 30. 33. 36. 39. 42. 45. 48. 51.\n",
      " 54. 57.]\n",
      "\n",
      "selected_columns of y values from df_hits:\n",
      "[ 1.  4.  7. 10. 13. 16. 19. 22. 25. 28. 31. 34. 37. 40. 43. 46. 49. 52.\n",
      " 55. 58.]\n",
      "\n",
      "selected_columns of z values from df_hits:\n",
      "[ 2.  5.  8. 11. 14. 17. 20. 23. 26. 29. 32. 35. 38. 41. 44. 47. 50. 53.\n",
      " 56. 59.]\n",
      "\n",
      " len of selected_columns x,y,z: 20, 20, 20\n"
     ]
    }
   ],
   "source": [
    "#creating df with x, y and z positions\n",
    "\n",
    "len_xyz = int(len(selected_columns)/3)\n",
    "\n",
    "# Initializing lists of indexes\n",
    "selected_columns_x = np.zeros(len_xyz)\n",
    "selected_columns_y = np.zeros(len_xyz)\n",
    "selected_columns_z = np.zeros(len_xyz)\n",
    "\n",
    "# Generating indexes\n",
    "for i in range(len_xyz):\n",
    "    selected_columns_x[i] = int(i*3)\n",
    "    selected_columns_y[i] = int(i*3+1)\n",
    "    selected_columns_z[i] = int(i*3+2)\n",
    "\n",
    "# Printing indexes for evaluation \n",
    "print('selected_columns of x values from df_hits:\\n' + \\\n",
    "      str(selected_columns_x) + \\\n",
    "      '\\n\\nselected_columns of y values from df_hits:\\n' + \\\n",
    "      str(selected_columns_y) + \\\n",
    "      '\\n\\nselected_columns of z values from df_hits:\\n' + \\\n",
    "      str(selected_columns_z) + \\\n",
    "      '\\n\\n len of selected_columns x,y,z: ' + \\\n",
    "      str(len(selected_columns_x)) + ', ' +\n",
    "      str(len(selected_columns_x)) + ', ' +\n",
    "      str(len(selected_columns_x)))\n",
    "\n",
    "# Geting x,y,z values from df_hits_xyz_2d[indexes]\n",
    "df_hits_x = df_hits_xyz_2d.iloc[:,selected_columns_x]\n",
    "df_hits_y = df_hits_xyz_2d.iloc[:,selected_columns_y]\n",
    "df_hits_z = df_hits_xyz_2d.iloc[:,selected_columns_z]\n",
    "\n",
    "# Generating HDF5 files from DFs\n",
    "df_hits_x.to_hdf(output_path + 'df_hits_x.h5', key = 'df', mode = 'w')\n",
    "df_hits_y.to_hdf(output_path + 'df_hits_y.h5', key = 'df', mode = 'w')\n",
    "df_hits_z.to_hdf(output_path + 'df_hits_z.h5', key = 'df', mode = 'w')"
   ]
  },
  {
   "cell_type": "code",
   "execution_count": 9,
   "metadata": {
    "scrolled": false
   },
   "outputs": [
    {
     "data": {
      "text/html": [
       "<iframe id=\"igraph\" scrolling=\"no\" style=\"border:none;\" seamless=\"seamless\" src=\"https://plot.ly/~fialhocoelho/26.embed\" height=\"750px\" width=\"900px\"></iframe>"
      ],
      "text/plain": [
       "<plotly.tools.PlotlyDisplay object>"
      ]
     },
     "execution_count": 9,
     "metadata": {},
     "output_type": "execute_result"
    }
   ],
   "source": [
    "# number of tracks\n",
    "n_track = 2\n",
    "\n",
    "# To plot All the tracks\n",
    "# n_track = df_hits.shape[0]\n",
    "# !!!It Will be very time consuming !!!\n",
    "\n",
    "color_real      = 'orange'\n",
    "color_fake      = 'green'\n",
    "plot_name       = 'plot_track_real_fake'\n",
    "plot_extension  = '.webp'\n",
    "\n",
    "# list os data to plot\n",
    "data = []\n",
    "track = [None] * n_track\n",
    "\n",
    "# loop to create the color_fake traces of fake tracks (df_is_real.iloc[i] == 1.0),\n",
    "# or/and the color_real traces of real tracks (df_is_real.iloc[i] == 0.0)\n",
    "for i in range(n_track):\n",
    "    # TRUE\n",
    "    if df_is_real.iloc[i] == 0.0:\n",
    "        track[i] = go.Scatter3d(\n",
    "            # Removing null values (zeroes) in the plot\n",
    "            x = df_hits_x.replace(0.0, np.nan).iloc[i,:],\n",
    "            y = df_hits_y.replace(0.0, np.nan).iloc[i,:],\n",
    "            z = df_hits_z.replace(0.0, np.nan).iloc[i,:],\n",
    "            # x,y,z data with null values (zeroes)\n",
    "            #\n",
    "            # x = df_hits_x.iloc[i,:],\n",
    "            # y = df_hits_y.iloc[i,:],\n",
    "            # z = df_hits_z.iloc[i,:],\n",
    "            marker = dict(\n",
    "                size = 1,\n",
    "                color = color_real,\n",
    "            ),\n",
    "            line = dict(\n",
    "                color = color_real,\n",
    "                width = 1\n",
    "            )\n",
    "        )\n",
    "        # append the track[i] in the list for plotting\n",
    "        data.append(track[i])\n",
    "    # TO PLOT  REAL TRACKS, UNCOMMENT THE FOLLOWING SNIPPET\n",
    "    '''\n",
    "    else:\n",
    "        track[i] = go.Scatter3d(\n",
    "            # Removing null values (zeroes) in the plot\n",
    "            x = df_hits_x.replace(0.0, np.nan).iloc[i,:],\n",
    "            y = df_hits_y.replace(0.0, np.nan).iloc[i,:],\n",
    "            z = df_hits_z.replace(0.0, np.nan).iloc[i,:],\n",
    "            # x,y,z data with null values (zeroes)\n",
    "            #\n",
    "            # x = df_hits_x.iloc[i,:],\n",
    "            # y = df_hits_y.iloc[i,:],\n",
    "            # z = df_hits_z.iloc[i,:],\n",
    "            marker = dict(\n",
    "                size = 1,\n",
    "                color = color_fake,\n",
    "            ),\n",
    "            line = dict(\n",
    "                color = color_fake,\n",
    "                width = 1\n",
    "            )\n",
    "        )\n",
    "        # append the track[i] in the list for plotting\n",
    "        data.append(track[i])\n",
    "    '''\n",
    "layout = dict(\n",
    "    width    = 900,\n",
    "    height   = 750,\n",
    "    autosize = False,\n",
    "    title    ='Tracking real x fake',\n",
    "    scene = dict(\n",
    "        xaxis = dict(\n",
    "            gridcolor       = 'rgb(255, 255, 255)',\n",
    "            zerolinecolor   = 'rgb(255, 255, 255)',\n",
    "            showbackground  = True,\n",
    "            backgroundcolor = 'rgb(230, 230,230)',\n",
    "            title           ='x (mm)'\n",
    "        ),\n",
    "        yaxis=dict(\n",
    "            gridcolor       = 'rgb(255, 255, 255)',\n",
    "            zerolinecolor   = 'rgb(255, 255, 255)',\n",
    "            showbackground  = True,\n",
    "            backgroundcolor = 'rgb(230, 230,230)',\n",
    "            title           = 'y (mm)'\n",
    "        ),\n",
    "        zaxis=dict(\n",
    "            gridcolor       = 'rgb(255, 255, 255)',\n",
    "            zerolinecolor   = 'rgb(255, 255, 255)',\n",
    "            showbackground  = True,\n",
    "            backgroundcolor = 'rgb(230, 230,230)',\n",
    "            title           = 'z (mm)'\n",
    "        ),\n",
    "        camera = dict(\n",
    "            up = dict(\n",
    "                x = 0,\n",
    "                y = 0,\n",
    "                z = 1\n",
    "            ),\n",
    "            eye = dict(\n",
    "                x = -1.7428,\n",
    "                y = 1.0707,\n",
    "                z = 0.7100,\n",
    "            )\n",
    "        ),\n",
    "        aspectratio = dict( x = 1, y = 1, z = 0.7),\n",
    "        aspectmode = 'manual'\n",
    "    ),\n",
    ")\n",
    "\n",
    "fig = dict(data = data, layout = layout)\n",
    "\n",
    "py.iplot(fig, filename='plot_track_real_fake', height=700)"
   ]
  },
  {
   "cell_type": "code",
   "execution_count": 7,
   "metadata": {},
   "outputs": [],
   "source": [
    "# CHECK WHY DOESNT WORK!  COS theta phi\n",
    "\n",
    "#print(output_path+plot_name+plot_extension)\n",
    "#df_hits_xyz_2d.iloc[:,3*i:3*i+2] = df_hits.iloc[:,6*i:6*i+2]"
   ]
  }
 ],
 "metadata": {
  "kernelspec": {
   "display_name": "Python 3",
   "language": "python",
   "name": "python3"
  },
  "language_info": {
   "codemirror_mode": {
    "name": "ipython",
    "version": 3
   },
   "file_extension": ".py",
   "mimetype": "text/x-python",
   "name": "python",
   "nbconvert_exporter": "python",
   "pygments_lexer": "ipython3",
   "version": "3.7.3"
  }
 },
 "nbformat": 4,
 "nbformat_minor": 2
}
